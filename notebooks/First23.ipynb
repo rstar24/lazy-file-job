{
  "nbformat": 4,
  "nbformat_minor": 0,
  "metadata": {
    "colab": {
      "provenance": []
    },
    "kernelspec": {
      "name": "python3",
      "display_name": "Python 3"
    },
    "language_info": {
      "name": "python"
    }
  },
  "cells": [
    {
      "cell_type": "code",
      "execution_count": 1,
      "metadata": {
        "colab": {
          "base_uri": "https://localhost:8080/"
        },
        "id": "ulm4s_NXkbbA",
        "outputId": "67868de5-873e-4492-ce13-e533a5e987e4"
      },
      "outputs": [
        {
          "output_type": "stream",
          "name": "stdout",
          "text": [
            "Data types:\n",
            "Integer: 10\n",
            "Float: 3.14\n",
            "String: Hello, World!\n",
            "Boolean: True\n",
            "List: [1, 2, 3, 4, 5]\n",
            "Tuple: (1, 2, 3, 4, 5)\n",
            "Dictionary: {'a': 1, 'b': 2, 'c': 3}\n",
            "Set: {1, 2, 3, 4, 5}\n",
            "\n",
            "\n",
            "Shriverdhan Pathak\n",
            "0827CI211181\n"
          ]
        }
      ],
      "source": [
        "# Write a program to print different types of data types with multiline and single line comments.\n",
        "\n",
        "# Single-line comment: Printing different data types\n",
        "print(\"Data types:\")\n",
        "\n",
        "# Integer data type\n",
        "num = 10\n",
        "print(\"Integer:\", num)\n",
        "\n",
        "# Float data type\n",
        "float_num = 3.14\n",
        "print(\"Float:\", float_num)\n",
        "\n",
        "# String data type\n",
        "string = \"Hello, World!\"\n",
        "print(\"String:\", string)\n",
        "\n",
        "# Boolean data type\n",
        "bool_value = True\n",
        "print(\"Boolean:\", bool_value)\n",
        "\n",
        "\"\"\"\n",
        "Multiline comment:\n",
        "List data type\n",
        "\"\"\"\n",
        "my_list = [1, 2, 3, 4, 5]\n",
        "print(\"List:\", my_list)\n",
        "\n",
        "\"\"\"\n",
        "Multiline comment:\n",
        "Tuple data type\n",
        "\"\"\"\n",
        "my_tuple = (1, 2, 3, 4, 5)\n",
        "print(\"Tuple:\", my_tuple)\n",
        "\n",
        "\"\"\"\n",
        "Multiline comment:\n",
        "Dictionary data type\n",
        "\"\"\"\n",
        "my_dict = {'a': 1, 'b': 2, 'c': 3}\n",
        "print(\"Dictionary:\", my_dict)\n",
        "\n",
        "\"\"\"\n",
        "Multiline comment:\n",
        "Set data type\n",
        "\"\"\"\n",
        "my_set = {1, 2, 3, 4, 5}\n",
        "print(\"Set:\", my_set)\n",
        "\n",
        "print(\"\\n\")\n",
        "print(\"Shriverdhan Pathak\")\n",
        "print(\"0827CI211181\")"
      ]
    },
    {
      "cell_type": "code",
      "source": [
        "# Write a program to print the largest number of three numbers using if else and elif.\n",
        "\n",
        "# Three numbers\n",
        "num1 = 10\n",
        "num2 = 20\n",
        "num3 = 15\n",
        "\n",
        "# Check which number is largest\n",
        "if num1 >= num2 and num1 >= num3:\n",
        "    largest_number = num1\n",
        "elif num2 >= num1 and num2 >= num3:\n",
        "    largest_number = num2\n",
        "else:\n",
        "    largest_number = num3\n",
        "\n",
        "# Print the result\n",
        "print(\"The largest number among\", num1, \",\", num2, \", and\", num3, \"is:\", largest_number)\n",
        "print(\"\\n\")\n",
        "print(\"Shriverdhan Pathak\")\n",
        "print(\"0827CI211181\")"
      ],
      "metadata": {
        "colab": {
          "base_uri": "https://localhost:8080/"
        },
        "id": "dTa6LlHvlCPI",
        "outputId": "f53224ef-3145-4af8-c759-bf2914225740"
      },
      "execution_count": 2,
      "outputs": [
        {
          "output_type": "stream",
          "name": "stdout",
          "text": [
            "The largest number among 10 , 20 , and 15 is: 20\n",
            "\n",
            "\n",
            "Shriverdhan Pathak\n",
            "0827CI211181\n"
          ]
        }
      ]
    },
    {
      "cell_type": "code",
      "source": [
        "# Write a program to print number I-IO using a while loop.\n",
        "\n",
        "# Initialize the starting number\n",
        "number = 1\n",
        "\n",
        "# Print numbers from 1 to 10 using a while loop\n",
        "while number <= 10:\n",
        "    print(number)\n",
        "    number += 1\n",
        "\n",
        "print(\"\\n\")\n",
        "print(\"Shriverdhan Pathak\")\n",
        "print(\"0827CI211181\")"
      ],
      "metadata": {
        "colab": {
          "base_uri": "https://localhost:8080/"
        },
        "id": "Q9J6MnlXlXGy",
        "outputId": "a1ea0fad-38a9-4b2e-e197-0735bcb65279"
      },
      "execution_count": 3,
      "outputs": [
        {
          "output_type": "stream",
          "name": "stdout",
          "text": [
            "1\n",
            "2\n",
            "3\n",
            "4\n",
            "5\n",
            "6\n",
            "7\n",
            "8\n",
            "9\n",
            "10\n",
            "\n",
            "\n",
            "Shriverdhan Pathak\n",
            "0827CI211181\n"
          ]
        }
      ]
    },
    {
      "cell_type": "code",
      "source": [
        "# Write a program to check prime numbers between 1-100 using a for loop.\n",
        "\n",
        "# Iterate through numbers from 1 to 100\n",
        "for num in range(1, 101):\n",
        "    # Check if the number is greater than 1\n",
        "    if num > 1:\n",
        "        # Check for factors\n",
        "        for i in range(2, int(num ** 0.5) + 1):\n",
        "            if (num % i) == 0:\n",
        "                break\n",
        "        else:\n",
        "            print(num, \"is a prime number.\")\n",
        "\n",
        "print(\"\\n\")\n",
        "print(\"Shriverdhan Pathak\")\n",
        "print(\"0827CI211181\")"
      ],
      "metadata": {
        "colab": {
          "base_uri": "https://localhost:8080/"
        },
        "id": "PnDgx7hslj79",
        "outputId": "cdfa10c0-5d4c-413c-c870-5aa8074406b9"
      },
      "execution_count": 4,
      "outputs": [
        {
          "output_type": "stream",
          "name": "stdout",
          "text": [
            "2 is a prime number.\n",
            "3 is a prime number.\n",
            "5 is a prime number.\n",
            "7 is a prime number.\n",
            "11 is a prime number.\n",
            "13 is a prime number.\n",
            "17 is a prime number.\n",
            "19 is a prime number.\n",
            "23 is a prime number.\n",
            "29 is a prime number.\n",
            "31 is a prime number.\n",
            "37 is a prime number.\n",
            "41 is a prime number.\n",
            "43 is a prime number.\n",
            "47 is a prime number.\n",
            "53 is a prime number.\n",
            "59 is a prime number.\n",
            "61 is a prime number.\n",
            "67 is a prime number.\n",
            "71 is a prime number.\n",
            "73 is a prime number.\n",
            "79 is a prime number.\n",
            "83 is a prime number.\n",
            "89 is a prime number.\n",
            "97 is a prime number.\n",
            "\n",
            "\n",
            "Shriverdhan Pathak\n",
            "0827CI211181\n"
          ]
        }
      ]
    },
    {
      "cell_type": "code",
      "source": [
        "# Write a program to concatenate two strings using + operator\n",
        "\n",
        "# Two strings to concatenate\n",
        "string1 = \"Hello world\"\n",
        "string2 = \".This is always constant\"\n",
        "\n",
        "# Concatenate the strings using the + operator\n",
        "concatenated_string = string1 + \" \" + string2\n",
        "\n",
        "# Print the concatenated string\n",
        "print(\"Concatenated string:\", concatenated_string)\n",
        "\n",
        "print(\"\\n\")\n",
        "print(\"Shriverdhan Pathak\")\n",
        "print(\"0827CI211181\")"
      ],
      "metadata": {
        "colab": {
          "base_uri": "https://localhost:8080/"
        },
        "id": "dUu7Ltz_l5Yu",
        "outputId": "f38f5fa5-d524-4b50-85c4-ee825a778100"
      },
      "execution_count": 7,
      "outputs": [
        {
          "output_type": "stream",
          "name": "stdout",
          "text": [
            "Concatenated string: Hello world .This is always constant\n",
            "\n",
            "\n",
            "Shriverdhan Pathak\n",
            "0827CI211181\n"
          ]
        }
      ]
    },
    {
      "cell_type": "code",
      "source": [
        "# Write a program to reverse a string using slicing\n",
        "\n",
        "# Input string\n",
        "input_string = \"Hello, World!\"\n",
        "\n",
        "# Reverse the string using slicing\n",
        "reversed_string = input_string[::-1]\n",
        "\n",
        "# Print the reversed string\n",
        "print(\"Original String:\", input_string)\n",
        "print(\"Reversed String:\", reversed_string)\n",
        "print(\"\\n\")\n",
        "print(\"Shriverdhan Pathak\")\n",
        "print(\"0827CI211181\")"
      ],
      "metadata": {
        "colab": {
          "base_uri": "https://localhost:8080/"
        },
        "id": "XEhzP2oSm13P",
        "outputId": "0203967e-0dec-4496-ab76-defad849859e"
      },
      "execution_count": 8,
      "outputs": [
        {
          "output_type": "stream",
          "name": "stdout",
          "text": [
            "Original String: Hello, World!\n",
            "Reversed String: !dlroW ,olleH\n",
            "\n",
            "\n",
            "Shriverdhan Pathak\n",
            "0827CI211181\n"
          ]
        }
      ]
    },
    {
      "cell_type": "code",
      "source": [
        "# Write a program to perform different methods of string like: len(atleast 5)\n",
        "\n",
        "# Input string\n",
        "input_string = \"Hello, World!\"\n",
        "\n",
        "# Length of the string\n",
        "length = len(input_string)\n",
        "print(\"Length of the string:\", length)\n",
        "\n",
        "# Convert string to uppercase\n",
        "uppercase_string = input_string.upper()\n",
        "print(\"Uppercase string:\", uppercase_string)\n",
        "\n",
        "# Convert string to lowercase\n",
        "lowercase_string = input_string.lower()\n",
        "print(\"Lowercase string:\", lowercase_string)\n",
        "\n",
        "# Count occurrences of a substring\n",
        "substring = \"o\"\n",
        "count = input_string.count(substring)\n",
        "print(\"Number of occurrences of 'o':\", count)\n",
        "\n",
        "# Replace substring\n",
        "old_substring = \"World\"\n",
        "new_substring = \"Python\"\n",
        "replaced_string = input_string.replace(old_substring, new_substring)\n",
        "print(\"String after replacement:\", replaced_string)\n",
        "\n",
        "# Check if string starts with a substring\n",
        "substring_to_check = \"Hello\"\n",
        "starts_with = input_string.startswith(substring_to_check)\n",
        "print(f\"String starts with '{substring_to_check}':\", starts_with)\n",
        "\n",
        "# Check if string ends with a substring\n",
        "substring_to_check = \"!\"\n",
        "ends_with = input_string.endswith(substring_to_check)\n",
        "print(f\"String ends with '{substring_to_check}':\", ends_with)\n",
        "\n",
        "print(\"\\n\")\n",
        "print(\"Shriverdhan Pathak\")\n",
        "print(\"0827CI211181\")"
      ],
      "metadata": {
        "colab": {
          "base_uri": "https://localhost:8080/"
        },
        "id": "3N7GicUCnLkk",
        "outputId": "854bfce5-4a5a-487e-c3e0-b8ea8c8eaffd"
      },
      "execution_count": 9,
      "outputs": [
        {
          "output_type": "stream",
          "name": "stdout",
          "text": [
            "Length of the string: 13\n",
            "Uppercase string: HELLO, WORLD!\n",
            "Lowercase string: hello, world!\n",
            "Number of occurrences of 'o': 2\n",
            "String after replacement: Hello, Python!\n",
            "String starts with 'Hello': True\n",
            "String ends with '!': True\n",
            "\n",
            "\n",
            "Shriverdhan Pathak\n",
            "0827CI211181\n"
          ]
        }
      ]
    },
    {
      "cell_type": "code",
      "source": [
        "# Write a program to traverse all the characters of a string using a for loop.\n",
        "\n",
        "# Input string\n",
        "input_string = \"Hello, World!\"\n",
        "\n",
        "# Traverse all characters of the string using a for loop\n",
        "print(\"Traversing all characters of the string using a for loop:\")\n",
        "for char in input_string:\n",
        "    print(char)\n",
        "\n",
        "print(\"\\n\")\n",
        "print(\"Shriverdhan Pathak\")\n",
        "print(\"0827CI211181\")"
      ],
      "metadata": {
        "colab": {
          "base_uri": "https://localhost:8080/"
        },
        "id": "BSbxSMApneJv",
        "outputId": "a0f952cb-a184-4cde-d5d4-dda5a4e2f5f9"
      },
      "execution_count": 10,
      "outputs": [
        {
          "output_type": "stream",
          "name": "stdout",
          "text": [
            "Traversing all characters of the string using a for loop:\n",
            "H\n",
            "e\n",
            "l\n",
            "l\n",
            "o\n",
            ",\n",
            " \n",
            "W\n",
            "o\n",
            "r\n",
            "l\n",
            "d\n",
            "!\n",
            "\n",
            "\n",
            "Shriverdhan Pathak\n",
            "0827CI211181\n"
          ]
        }
      ]
    },
    {
      "cell_type": "code",
      "source": [
        "# Write a program to Print abecederian series\n",
        "\n",
        "# Function to check if a word is abecedarian\n",
        "def is_abecedarian(word):\n",
        "    \"\"\"\n",
        "    Function to check if a word is abecedarian.\n",
        "\n",
        "    Parameters:\n",
        "    word (str): The word to check.\n",
        "\n",
        "    Returns:\n",
        "    bool: True if the word is abecedarian, False otherwise.\n",
        "    \"\"\"\n",
        "    # Iterate through each character in the word\n",
        "    for i in range(len(word) - 1):\n",
        "        # Check if the current character is greater than the next character\n",
        "        if word[i] > word[i + 1]:\n",
        "            return False\n",
        "    return True\n",
        "\n",
        "# Main program to print abecedarian series\n",
        "def print_abecedarian_series():\n",
        "    \"\"\"\n",
        "    Function to print abecedarian series.\n",
        "    \"\"\"\n",
        "    # Starting letter\n",
        "    start_letter = 'a'\n",
        "\n",
        "    # Loop to generate and print abecedarian words\n",
        "    while start_letter <= 'z':\n",
        "        print(start_letter)\n",
        "        start_letter = chr(ord(start_letter) + 1)\n",
        "\n",
        "# Print the abecedarian series\n",
        "print(\"Abecedarian series:\")\n",
        "print_abecedarian_series()\n",
        "print(\"\\n\")\n",
        "print(\"Shriverdhan Pathak\")\n",
        "print(\"0827CI211181\")"
      ],
      "metadata": {
        "colab": {
          "base_uri": "https://localhost:8080/"
        },
        "id": "ZmKqKd-lnv9G",
        "outputId": "f8e4839e-86ff-485a-f660-428db1f9205a"
      },
      "execution_count": 11,
      "outputs": [
        {
          "output_type": "stream",
          "name": "stdout",
          "text": [
            "Abecedarian series:\n",
            "a\n",
            "b\n",
            "c\n",
            "d\n",
            "e\n",
            "f\n",
            "g\n",
            "h\n",
            "i\n",
            "j\n",
            "k\n",
            "l\n",
            "m\n",
            "n\n",
            "o\n",
            "p\n",
            "q\n",
            "r\n",
            "s\n",
            "t\n",
            "u\n",
            "v\n",
            "w\n",
            "x\n",
            "y\n",
            "z\n",
            "\n",
            "\n",
            "Shriverdhan Pathak\n",
            "0827CI211181\n"
          ]
        }
      ]
    },
    {
      "cell_type": "code",
      "source": [
        "# Write a program to check whether a string is present in another string or not.\n",
        "\n",
        "def check_substring(main_string, substring):\n",
        "    \"\"\"\n",
        "    Function to check whether a substring is present in a main string.\n",
        "\n",
        "    Parameters:\n",
        "    main_string (str): The main string.\n",
        "    substring (str): The substring to check.\n",
        "\n",
        "    Returns:\n",
        "    bool: True if substring is present in main string, False otherwise.\n",
        "    \"\"\"\n",
        "    return substring in main_string\n",
        "\n",
        "# Example usage:\n",
        "main_string = \"Hello, World!\"\n",
        "substring1 = \"Hello\"\n",
        "substring2 = \"Python\"\n",
        "\n",
        "# Check if substrings are present in the main string\n",
        "print(f\"'{substring1}' is present in '{main_string}':\", check_substring(main_string, substring1))\n",
        "print(f\"'{substring2}' is present in '{main_string}':\", check_substring(main_string, substring2))\n",
        "print(\"\\n\")\n",
        "print(\"Shriverdhan Pathak\")\n",
        "print(\"0827CI211181\")"
      ],
      "metadata": {
        "colab": {
          "base_uri": "https://localhost:8080/"
        },
        "id": "3zrGyzJmoQlt",
        "outputId": "e536035c-83d7-49a5-88eb-f0f455c1f99b"
      },
      "execution_count": 13,
      "outputs": [
        {
          "output_type": "stream",
          "name": "stdout",
          "text": [
            "'Hello' is present in 'Hello, World!': True\n",
            "'Python' is present in 'Hello, World!': False\n",
            "\n",
            "\n",
            "Shriverdhan Pathak\n",
            "0827CI211181\n"
          ]
        }
      ]
    },
    {
      "cell_type": "code",
      "source": [
        "# Write a program to print\n",
        "# A\n",
        "# ABC\n",
        "# ABCD\n",
        "\n",
        "# Number of rows for the pattern\n",
        "num_rows = 4\n",
        "\n",
        "# Outer loop to iterate over each row\n",
        "for i in range(1, num_rows + 1):\n",
        "    # Inner loop to print characters from 'A' to 'A + i - 1'\n",
        "    for j in range(ord('A'), ord('A') + i):\n",
        "        print(chr(j), end=\"\")\n",
        "    print()  # Move to the next line after printing each row\n",
        "print(\"\\n\")\n",
        "print(\"Shriverdhan Pathak\")\n",
        "print(\"0827CI211181\")"
      ],
      "metadata": {
        "colab": {
          "base_uri": "https://localhost:8080/"
        },
        "id": "EA0TUBiUobtZ",
        "outputId": "aacf912c-23d3-4935-c9d2-f7ce9d07a33b"
      },
      "execution_count": 29,
      "outputs": [
        {
          "output_type": "stream",
          "name": "stdout",
          "text": [
            "A\n",
            "AB\n",
            "ABC\n",
            "ABCD\n",
            "\n",
            "\n",
            "Shriverdhan Pathak\n",
            "0827CI211181\n"
          ]
        }
      ]
    },
    {
      "cell_type": "code",
      "source": [
        "#  Write a program to Create a list with different data types.\n",
        "\n",
        "# Create a list with different data types\n",
        "my_list = [1, \"Hello\", 3.14, True, [1, 2, 3]]\n",
        "\n",
        "# Print the list\n",
        "print(\"List with different data types:\", my_list)\n",
        "print(\"\\n\")\n",
        "print(\"Shriverdhan Pathak\")\n",
        "print(\"0827CI211181\")"
      ],
      "metadata": {
        "colab": {
          "base_uri": "https://localhost:8080/"
        },
        "id": "TibZDwllpb88",
        "outputId": "285e3ee1-8429-4e04-dc09-3041ac24c72d"
      },
      "execution_count": 15,
      "outputs": [
        {
          "output_type": "stream",
          "name": "stdout",
          "text": [
            "List with different data types: [1, 'Hello', 3.14, True, [1, 2, 3]]\n",
            "\n",
            "\n",
            "Shriverdhan Pathak\n",
            "0827CI211181\n"
          ]
        }
      ]
    },
    {
      "cell_type": "code",
      "source": [
        "# Write a program to take user input in a list from eval().\n",
        "\n",
        "# Take user input as a string\n",
        "user_input_str = input(\"Enter elements of the list separated by commas: \")\n",
        "\n",
        "# Convert the user input string to a list using eval()\n",
        "try:\n",
        "    user_list = eval(user_input_str)\n",
        "    if not isinstance(user_list, list):\n",
        "        raise ValueError(\"Input is not a valid list.\")\n",
        "except Exception as e:\n",
        "    print(\"Error:\", e)\n",
        "else:\n",
        "    print(\"User input list:\", user_list)\n",
        "print(\"\\n\")\n",
        "print(\"Shriverdhan Pathak\")\n",
        "print(\"0827CI211181\")"
      ],
      "metadata": {
        "colab": {
          "base_uri": "https://localhost:8080/"
        },
        "id": "T-thT9_SpwDW",
        "outputId": "606ca3cc-4624-4e72-bdb9-1768aa2b1df4"
      },
      "execution_count": 18,
      "outputs": [
        {
          "output_type": "stream",
          "name": "stdout",
          "text": [
            "Enter elements of the list separated by commas: 12,18,24,7,10\n",
            "Error: Input is not a valid list.\n",
            "\n",
            "\n",
            "Shriverdhan Pathak\n",
            "0827CI211181\n"
          ]
        }
      ]
    },
    {
      "cell_type": "code",
      "source": [
        "# Write a program to append five elements in a list by using for loop and append().\n",
        "\n",
        "# Initialize an empty list\n",
        "my_list = []\n",
        "\n",
        "# Append five elements to the list using a for loop and append() method\n",
        "for i in range(1, 6):\n",
        "    my_list.append(i)\n",
        "\n",
        "# Print the list\n",
        "print(\"List after appending five elements:\", my_list)\n",
        "print(\"\\n\")\n",
        "print(\"Shriverdhan Pathak\")\n",
        "print(\"0827CI211181\")\n"
      ],
      "metadata": {
        "colab": {
          "base_uri": "https://localhost:8080/"
        },
        "id": "NXBZ-yx1qVHk",
        "outputId": "a70af75b-8e50-4925-8498-5a08e24f2539"
      },
      "execution_count": 19,
      "outputs": [
        {
          "output_type": "stream",
          "name": "stdout",
          "text": [
            "List after appending five elements: [1, 2, 3, 4, 5]\n",
            "\n",
            "\n",
            "Shriverdhan Pathak\n",
            "0827CI211181\n"
          ]
        }
      ]
    },
    {
      "cell_type": "code",
      "source": [
        "# Write a program to sort a list in both ascending and descending order.\n",
        "\n",
        "# Original list\n",
        "my_list = [5, 2, 8, 1, 9]\n",
        "\n",
        "# Sort the list in ascending order using sort() method\n",
        "my_list.sort()\n",
        "print(\"List sorted in ascending order:\", my_list)\n",
        "\n",
        "# Sort the list in descending order using sorted() function\n",
        "descending_list = sorted(my_list, reverse=True)\n",
        "print(\"List sorted in descending order:\", descending_list)\n",
        "print(\"\\n\")\n",
        "print(\"Shriverdhan Pathak\")\n",
        "print(\"0827CI211181\")"
      ],
      "metadata": {
        "colab": {
          "base_uri": "https://localhost:8080/"
        },
        "id": "LrP9Ud_6qkkv",
        "outputId": "aeb3f697-0daf-46bb-de8a-a662ce0f9f53"
      },
      "execution_count": 20,
      "outputs": [
        {
          "output_type": "stream",
          "name": "stdout",
          "text": [
            "List sorted in ascending order: [1, 2, 5, 8, 9]\n",
            "List sorted in descending order: [9, 8, 5, 2, 1]\n",
            "\n",
            "\n",
            "Shriverdhan Pathak\n",
            "0827CI211181\n"
          ]
        }
      ]
    },
    {
      "cell_type": "code",
      "source": [
        "# Write a program to count the occurrences of an element in a list.\n",
        "\n",
        "# Original list\n",
        "my_list = [1, 2, 3, 4, 2, 3, 2, 5, 2]\n",
        "\n",
        "# Element to count occurrences\n",
        "element_to_count = 2\n",
        "\n",
        "# Count occurrences of the element in the list\n",
        "occurrences = my_list.count(element_to_count)\n",
        "\n",
        "# Print the result\n",
        "print(f\"The element {element_to_count} occurs {occurrences} times in the list.\")\n",
        "print(\"\\n\")\n",
        "print(\"Shriverdhan Pathak\")\n",
        "print(\"0827CI211181\")"
      ],
      "metadata": {
        "colab": {
          "base_uri": "https://localhost:8080/"
        },
        "id": "ilAQtexMqzlV",
        "outputId": "f551d8ac-1021-4b3a-d5be-e2338cc8fee0"
      },
      "execution_count": 21,
      "outputs": [
        {
          "output_type": "stream",
          "name": "stdout",
          "text": [
            "The element 2 occurs 4 times in the list.\n",
            "\n",
            "\n",
            "Shriverdhan Pathak\n",
            "0827CI211181\n"
          ]
        }
      ]
    },
    {
      "cell_type": "code",
      "source": [
        "# Write a program to find the index of an element in the list.\n",
        "\n",
        "# Original list\n",
        "my_list = [10, 20, 30, 40, 50]\n",
        "\n",
        "# Element to find index\n",
        "element_to_find = 30\n",
        "\n",
        "try:\n",
        "    # Find the index of the element in the list\n",
        "    index = my_list.index(element_to_find)\n",
        "    print(f\"The index of {element_to_find} in the list is:\", index)\n",
        "except ValueError:\n",
        "    print(f\"The element {element_to_find} is not present in the list.\")\n",
        "print(\"\\n\")\n",
        "print(\"Shriverdhan Pathak\")\n",
        "print(\"0827CI211181\")\n"
      ],
      "metadata": {
        "colab": {
          "base_uri": "https://localhost:8080/"
        },
        "id": "NSEXNrj2rFFS",
        "outputId": "7077fbf7-52a5-4185-9d0f-ebd128dc7644"
      },
      "execution_count": 22,
      "outputs": [
        {
          "output_type": "stream",
          "name": "stdout",
          "text": [
            "The index of 30 in the list is: 2\n",
            "\n",
            "\n",
            "Shriverdhan Pathak\n",
            "0827CI211181\n"
          ]
        }
      ]
    },
    {
      "cell_type": "code",
      "source": [
        "# Write a program to swap the first and last element of a list.\n",
        "\n",
        "# Original list\n",
        "my_list = [10, 20, 30, 40, 50]\n",
        "print(\"List before swaping : \",my_list)\n",
        "# Swap the first and last elements of the list\n",
        "if len(my_list) >= 2:\n",
        "    my_list[0], my_list[-1] = my_list[-1], my_list[0]\n",
        "\n",
        "# Print the modified list\n",
        "print(\"List after swapping first and last elements:\", my_list)\n",
        "print(\"\\n\")\n",
        "print(\"Shriverdhan Pathak\")\n",
        "print(\"0827CI211181\")"
      ],
      "metadata": {
        "colab": {
          "base_uri": "https://localhost:8080/"
        },
        "id": "3gUs4_XgrPBh",
        "outputId": "1c77b067-7c28-4f86-9887-45cb9d7c9466"
      },
      "execution_count": 24,
      "outputs": [
        {
          "output_type": "stream",
          "name": "stdout",
          "text": [
            "List before swaping :  [10, 20, 30, 40, 50]\n",
            "List after swapping first and last elements: [50, 20, 30, 40, 10]\n",
            "\n",
            "\n",
            "Shriverdhan Pathak\n",
            "0827CI211181\n"
          ]
        }
      ]
    },
    {
      "cell_type": "code",
      "source": [
        "# Write a program to swap two no in list with given position.\n",
        "\n",
        "def swap_elements(lst, pos1, pos2):\n",
        "    \"\"\"\n",
        "    Function to swap two elements in a list at given positions.\n",
        "\n",
        "    Parameters:\n",
        "    lst (list): The input list.\n",
        "    pos1 (int): The position of the first element to swap.\n",
        "    pos2 (int): The position of the second element to swap.\n",
        "\n",
        "    Returns:\n",
        "    list: The list with elements swapped.\n",
        "    \"\"\"\n",
        "    # Check if positions are within the range of the list\n",
        "    if 0 <= pos1 < len(lst) and 0 <= pos2 < len(lst):\n",
        "        # Swap the elements\n",
        "        lst[pos1], lst[pos2] = lst[pos2], lst[pos1]\n",
        "    else:\n",
        "        print(\"Positions are out of range. Swapping not possible.\")\n",
        "    return lst\n",
        "\n",
        "# Original list\n",
        "my_list = [10, 20, 30, 40, 50]\n",
        "\n",
        "# Positions to swap\n",
        "position1 = 1\n",
        "position2 = 3\n",
        "\n",
        "# Swap elements at given positions\n",
        "modified_list = swap_elements(my_list, position1, position2)\n",
        "\n",
        "# Print the modified list\n",
        "print(\"List after swapping elements at positions\", position1, \"and\", position2, \":\", modified_list)\n",
        "print(\"\\n\")\n",
        "print(\"Shriverdhan Pathak\")\n",
        "print(\"0827CI211181\")"
      ],
      "metadata": {
        "colab": {
          "base_uri": "https://localhost:8080/"
        },
        "id": "RYN533JdrqvQ",
        "outputId": "a9e302b4-fdf2-4a87-f44b-2b3c1ea71bcf"
      },
      "execution_count": 25,
      "outputs": [
        {
          "output_type": "stream",
          "name": "stdout",
          "text": [
            "List after swapping elements at positions 1 and 3 : [10, 40, 30, 20, 50]\n",
            "\n",
            "\n",
            "Shriverdhan Pathak\n",
            "0827CI211181\n"
          ]
        }
      ]
    },
    {
      "cell_type": "code",
      "source": [
        "# Write a program to check whether a no is in the list or not sublist even and odd.\n",
        "\n",
        "# Original list\n",
        "my_list = [1, 2, 3, 4, 5, 6, 7, 8, 9]\n",
        "\n",
        "# Number to check\n",
        "number_to_check = 5\n",
        "\n",
        "# Check if the number is present in the list\n",
        "if number_to_check in my_list:\n",
        "    print(f\"The number {number_to_check} is present in the list.\")\n",
        "else:\n",
        "    print(f\"The number {number_to_check} is not present in the list.\")\n",
        "\n",
        "# Separate the list into two sublists containing even and odd numbers\n",
        "even_numbers = []\n",
        "odd_numbers = []\n",
        "\n",
        "for num in my_list:\n",
        "    if num % 2 == 0:\n",
        "        even_numbers.append(num)\n",
        "    else:\n",
        "        odd_numbers.append(num)\n",
        "\n",
        "# Print the sublists\n",
        "print(\"Even numbers in the list:\", even_numbers)\n",
        "print(\"Odd numbers in the list:\", odd_numbers)\n",
        "print(\"\\n\")\n",
        "print(\"Shriverdhan Pathak\")\n",
        "print(\"0827CI211181\")"
      ],
      "metadata": {
        "colab": {
          "base_uri": "https://localhost:8080/"
        },
        "id": "h7vtJKc6seck",
        "outputId": "c104cf52-1619-4d56-97b2-4cb5b3e406a3"
      },
      "execution_count": 26,
      "outputs": [
        {
          "output_type": "stream",
          "name": "stdout",
          "text": [
            "The number 5 is present in the list.\n",
            "Even numbers in the list: [2, 4, 6, 8]\n",
            "Odd numbers in the list: [1, 3, 5, 7, 9]\n",
            "\n",
            "\n",
            "Shriverdhan Pathak\n",
            "0827CI211181\n"
          ]
        }
      ]
    },
    {
      "cell_type": "code",
      "source": [
        "# Write a program to demonstrate the difference between remove and pop method in a list.\n",
        "\n",
        "# Original list\n",
        "my_list = [1, 2, 3, 4, 5]\n",
        "\n",
        "# Demonstrate remove() method\n",
        "removed_element = 3\n",
        "print(\"Original list before using remove():\", my_list)\n",
        "my_list.remove(removed_element)\n",
        "print(\"List after using remove():\", my_list)\n",
        "print(\"Removed element:\", removed_element)\n",
        "\n",
        "# Demonstrate pop() method\n",
        "index_to_pop = 2\n",
        "popped_element = my_list.pop(index_to_pop)\n",
        "print(\"Original list before using pop():\", my_list)\n",
        "print(\"Popped element at index\", index_to_pop, \":\", popped_element)\n",
        "print(\"\\n\")\n",
        "print(\"Shriverdhan Pathak\")\n",
        "print(\"0827CI211181\")"
      ],
      "metadata": {
        "colab": {
          "base_uri": "https://localhost:8080/"
        },
        "id": "x9MN5WC5s5A8",
        "outputId": "37cf71c0-beb1-465d-c568-89212a5aec97"
      },
      "execution_count": 27,
      "outputs": [
        {
          "output_type": "stream",
          "name": "stdout",
          "text": [
            "Original list before using remove(): [1, 2, 3, 4, 5]\n",
            "List after using remove(): [1, 2, 4, 5]\n",
            "Removed element: 3\n",
            "Original list before using pop(): [1, 2, 5]\n",
            "Popped element at index 2 : 4\n",
            "\n",
            "\n",
            "Shriverdhan Pathak\n",
            "0827CI211181\n"
          ]
        }
      ]
    },
    {
      "cell_type": "code",
      "source": [
        "# Write a program to insert an element into a list at a position given by the user.\n",
        "\n",
        "# Original list\n",
        "my_list = [1, 2, 3, 4, 5]\n",
        "\n",
        "# Get element and position from the user\n",
        "element_to_insert = int(input(\"Enter the element to insert: \"))\n",
        "position = int(input(\"Enter the position to insert the element: \"))\n",
        "\n",
        "# Check if the position is within the range of the list\n",
        "if 0 <= position <= len(my_list):\n",
        "    # Insert the element at the specified position\n",
        "    my_list.insert(position, element_to_insert)\n",
        "    print(\"List after inserting the element:\", my_list)\n",
        "else:\n",
        "    print(\"Invalid position. Element cannot be inserted.\")\n",
        "print(\"\\n\")\n",
        "print(\"Shriverdhan Pathak\")\n",
        "print(\"0827CI211181\")"
      ],
      "metadata": {
        "colab": {
          "base_uri": "https://localhost:8080/"
        },
        "id": "MLqpJ78XtdkY",
        "outputId": "16cbe293-63ac-4632-d71d-bad79dc33fa1"
      },
      "execution_count": 28,
      "outputs": [
        {
          "output_type": "stream",
          "name": "stdout",
          "text": [
            "Enter the element to insert: 12\n",
            "Enter the position to insert the element: 2\n",
            "List after inserting the element: [1, 2, 12, 3, 4, 5]\n",
            "\n",
            "\n",
            "Shriverdhan Pathak\n",
            "0827CI211181\n"
          ]
        }
      ]
    }
  ]
}