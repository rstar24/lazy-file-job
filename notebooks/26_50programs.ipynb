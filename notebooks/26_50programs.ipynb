{
  "cells": [
    {
      "cell_type": "code",
      "execution_count": 32,
      "metadata": {
        "colab": {
          "base_uri": "https://localhost:8080/"
        },
        "id": "8tCaJQvRR-2Y",
        "outputId": "55d6cb4c-d2bc-49c1-8610-45cbd3fd3232"
      },
      "outputs": [
        {
          "name": "stdout",
          "output_type": "stream",
          "text": [
            "Original Dictionary: {'a': 1, 'b': 2, 'c': 3}\n",
            "Dictionary after adding 'd': {'a': 1, 'b': 2, 'c': 3, 'd': 4}\n",
            "Dictionary after updating 'b': {'a': 1, 'b': 5, 'c': 3, 'd': 4}\n",
            "Shriverdhan Pathak\n",
            "0827CI211181\n"
          ]
        }
      ],
      "source": [
        "# Write a Python program to add or update the data.\n",
        "\n",
        "def add_or_update_data(dictionary, key, value):\n",
        "    \"\"\"\n",
        "    Function to add or update data in a dictionary.\n",
        "\n",
        "    Parameters:\n",
        "    dictionary (dict): The dictionary to modify.\n",
        "    key: The key to add/update in the dictionary.\n",
        "    value: The value corresponding to the key.\n",
        "\n",
        "    Returns:\n",
        "    None\n",
        "    \"\"\"\n",
        "    dictionary[key] = value\n",
        "\n",
        "\n",
        "my_dictionary = {'a': 1, 'b': 2, 'c': 3}\n",
        "\n",
        "print(\"Original Dictionary:\", my_dictionary)\n",
        "\n",
        "\n",
        "add_or_update_data(my_dictionary, 'd', 4)\n",
        "print(\"Dictionary after adding 'd':\", my_dictionary)\n",
        "\n",
        "\n",
        "add_or_update_data(my_dictionary, 'b', 5)\n",
        "print(\"Dictionary after updating 'b':\", my_dictionary)\n",
        "\n",
        "print(\"\\n\")\n",
        "print(\"Shriverdhan Pathak\")\n",
        "print(\"0827CI211181\")\n"
      ]
    },
    {
      "cell_type": "code",
      "execution_count": 33,
      "metadata": {
        "colab": {
          "base_uri": "https://localhost:8080/"
        },
        "id": "O_CrtAhjS7mM",
        "outputId": "3177d5cf-f131-4c54-ef47-0d636c49e0e1"
      },
      "outputs": [
        {
          "name": "stdout",
          "output_type": "stream",
          "text": [
            "Concatenated Dictionary: {1: 10, 2: 20, 3: 30, 4: 40}\n",
            "Shriverdhan Pathak\n",
            "0827CI211181\n"
          ]
        }
      ],
      "source": [
        "# Write a Python script to concatenate the following dictionaries to create a new one sample Dictionary:dic1={1:10,2:20}, dic2={3:30,4:40}\n",
        "\n",
        "def concatenate_dicts(*dicts):\n",
        "    \"\"\"\n",
        "    Concatenate multiple dictionaries into a new one.\n",
        "\n",
        "    Parameters:\n",
        "    *dicts: Variable number of dictionaries to concatenate.\n",
        "\n",
        "    Returns:\n",
        "    dict: The concatenated dictionary.\n",
        "    \"\"\"\n",
        "    concatenated_dict = {}\n",
        "    for d in dicts:\n",
        "        concatenated_dict.update(d)\n",
        "    return concatenated_dict\n",
        "\n",
        "# Sample dictionaries\n",
        "dic1 = {1: 10, 2: 20}\n",
        "dic2 = {3: 30, 4: 40}\n",
        "\n",
        "# Concatenate dictionaries\n",
        "concatenated_dict = concatenate_dicts(dic1, dic2)\n",
        "\n",
        "# Output the concatenated dictionary\n",
        "print(\"Concatenated Dictionary:\", concatenated_dict)\n",
        "print(\"Shriverdhan Pathak\")\n",
        "print(\"0827CI211181\")\n"
      ]
    },
    {
      "cell_type": "code",
      "execution_count": 34,
      "metadata": {
        "colab": {
          "base_uri": "https://localhost:8080/"
        },
        "id": "REUSGLjeT0yE",
        "outputId": "4a76c2ad-459a-4c80-cb7a-14a886b9f144"
      },
      "outputs": [
        {
          "name": "stdout",
          "output_type": "stream",
          "text": [
            "The key 'b' exists in the dictionary.\n",
            "Shriverdhan Pathak\n",
            "0827CI211181\n"
          ]
        }
      ],
      "source": [
        "# Write a Python script to check whether a given key already exists in a dictionary\n",
        "\n",
        "def check_key_existence(dictionary, key):\n",
        "    \"\"\"\n",
        "    Check whether a given key exists in a dictionary.\n",
        "\n",
        "    Parameters:\n",
        "    dictionary (dict): The dictionary to check.\n",
        "    key: The key to check for existence.\n",
        "\n",
        "    Returns:\n",
        "    bool: True if the key exists, False otherwise.\n",
        "    \"\"\"\n",
        "    return key in dictionary\n",
        "\n",
        "# Sample dictionary\n",
        "my_dict = {'a': 1, 'b': 2, 'c': 3}\n",
        "\n",
        "# Key to check\n",
        "key_to_check = 'b'\n",
        "\n",
        "# Check if the key exists in the dictionary\n",
        "if check_key_existence(my_dict, key_to_check):\n",
        "    print(f\"The key '{key_to_check}' exists in the dictionary.\")\n",
        "else:\n",
        "    print(f\"The key '{key_to_check}' does not exist in the dictionary.\")\n",
        "\n",
        "\n",
        "print(\"Shriverdhan Pathak\")\n",
        "print(\"0827CI211181\")\n",
        "\n"
      ]
    },
    {
      "cell_type": "code",
      "execution_count": 37,
      "metadata": {
        "colab": {
          "base_uri": "https://localhost:8080/"
        },
        "id": "KNImIwt2UNd7",
        "outputId": "b890aaa9-2f8b-42bb-bdec-2e0dafda2774"
      },
      "outputs": [
        {
          "name": "stdout",
          "output_type": "stream",
          "text": [
            "Iterating over keys:\n",
            "a\n",
            "b\n",
            "c\n",
            "\n",
            "Iterating over values:\n",
            "1\n",
            "2\n",
            "3\n",
            "\n",
            "Iterating over key-value pairs:\n",
            "a -> 1\n",
            "b -> 2\n",
            "c -> 3\n",
            "\n",
            "\n",
            "Shriverdhan Pathak\n",
            "0827CI211181\n"
          ]
        }
      ],
      "source": [
        "# Write a Python program to iterate over dictionaries using for loops\n",
        "\n",
        "# Sample dictionary\n",
        "my_dict = {'a': 1, 'b': 2, 'c': 3}\n",
        "\n",
        "# Iterate over keys\n",
        "print(\"Iterating over keys:\")\n",
        "for key in my_dict:\n",
        "    print(key)\n",
        "\n",
        "# Iterate over values\n",
        "print(\"\\nIterating over values:\")\n",
        "for value in my_dict.values():\n",
        "    print(value)\n",
        "\n",
        "# Iterate over key-value pairs\n",
        "print(\"\\nIterating over key-value pairs:\")\n",
        "for key, value in my_dict.items():\n",
        "    print(key, \"->\", value)\n",
        "\n",
        "print(\"\\n\")\n",
        "print(\"Shriverdhan Pathak\")\n",
        "print(\"0827CI211181\")"
      ]
    },
    {
      "cell_type": "code",
      "execution_count": 40,
      "metadata": {
        "colab": {
          "base_uri": "https://localhost:8080/"
        },
        "id": "Rv3uxMvSYB6n",
        "outputId": "de4ff3a4-89b6-4d5a-bc63-928672a39c94"
      },
      "outputs": [
        {
          "name": "stdout",
          "output_type": "stream",
          "text": [
            "Generated Dictionary: {1: 1, 2: 4, 3: 9, 4: 16, 5: 25, 6: 36, 7: 49, 8: 64}\n",
            "\n",
            "\n",
            "Shriverdhan Pathak\n",
            "0827CI211181\n"
          ]
        }
      ],
      "source": [
        "# Write a Python script to generate and print a dictionary that contains a number (between I and n) in the form (x, x*x).Sample dictionary (n=5): Expected output: {1:1,2:4,3:9,4:16,5:25}\n",
        "\n",
        "def generate_squared_dict(n):\n",
        "    \"\"\"\n",
        "    Generate a dictionary containing numbers and their squares from 1 to n.\n",
        "\n",
        "    Parameters:\n",
        "    n (int): The maximum number to include in the dictionary.\n",
        "\n",
        "    Returns:\n",
        "    dict: The generated dictionary.\n",
        "    \"\"\"\n",
        "    squared_dict = {}\n",
        "    for x in range(1, n+1):\n",
        "        squared_dict[x] = x * x\n",
        "    return squared_dict\n",
        "\n",
        "# Sample value of n\n",
        "n = 8\n",
        "\n",
        "# Generate the dictionary\n",
        "result_dict = generate_squared_dict(n)\n",
        "\n",
        "# Print the generated dictionary\n",
        "print(\"Generated Dictionary:\", result_dict)\n",
        "print(\"\\n\")\n",
        "print(\"Shriverdhan Pathak\")\n",
        "print(\"0827CI211181\")\n"
      ]
    },
    {
      "cell_type": "code",
      "execution_count": 41,
      "metadata": {
        "colab": {
          "base_uri": "https://localhost:8080/"
        },
        "id": "JlvjQvQYZq3R",
        "outputId": "deb520fe-cede-4acc-c0b2-f341a9df15dd"
      },
      "outputs": [
        {
          "name": "stdout",
          "output_type": "stream",
          "text": [
            "Sum of the two variables: 12\n",
            "\n",
            "\n",
            "Shriverdhan Pathak\n",
            "0827CI211181\n"
          ]
        }
      ],
      "source": [
        "# Write a python function to calculate Sum of two variables.\n",
        "\n",
        "def sum_of_two_variables(a, b):\n",
        "    \"\"\"\n",
        "    Calculate the sum of two variables.\n",
        "\n",
        "    Parameters:\n",
        "    a: The first variable.\n",
        "    b: The second variable.\n",
        "\n",
        "    Returns:\n",
        "    The sum of a and b.\n",
        "    \"\"\"\n",
        "    return a + b\n",
        "\n",
        "# Example usage:\n",
        "result = sum_of_two_variables(5, 7)\n",
        "print(\"Sum of the two variables:\", result)\n",
        "print(\"\\n\")\n",
        "print(\"Shriverdhan Pathak\")\n",
        "print(\"0827CI211181\")"
      ]
    },
    {
      "cell_type": "code",
      "execution_count": 42,
      "metadata": {
        "colab": {
          "base_uri": "https://localhost:8080/"
        },
        "id": "_D3vU7__aDMK",
        "outputId": "757d57fd-748d-4cfd-b0a4-82c181ce6aed"
      },
      "outputs": [
        {
          "name": "stdout",
          "output_type": "stream",
          "text": [
            "Hello, Ram!\n",
            "Good morning, Siya!\n",
            "\n",
            "\n",
            "Shriverdhan Pathak\n",
            "0827CI211181\n"
          ]
        }
      ],
      "source": [
        "# Write a Python function to show the use of Default Parameter\n",
        "\n",
        "def greet(name, greeting=\"Hello\"):\n",
        "    \"\"\"\n",
        "    Function to greet a person with a specified greeting.\n",
        "\n",
        "    Parameters:\n",
        "    name: The name of the person to greet.\n",
        "    greeting (optional): The greeting to use. Defaults to \"Hello\" if not specified.\n",
        "\n",
        "    Returns:\n",
        "    str: The greeting message.\n",
        "    \"\"\"\n",
        "    return f\"{greeting}, {name}!\"\n",
        "\n",
        "# Example usage:\n",
        "print(greet(\"Ram\"))  # Uses the default greeting \"Hello\"\n",
        "print(greet(\"Siya\", \"Good morning\"))  # Uses the specified greeting \"Good morning\"\n",
        "print(\"\\n\")\n",
        "print(\"Shriverdhan Pathak\")\n",
        "print(\"0827CI211181\")\n"
      ]
    },
    {
      "cell_type": "code",
      "execution_count": 43,
      "metadata": {
        "colab": {
          "base_uri": "https://localhost:8080/"
        },
        "id": "ldNasKHyaYdv",
        "outputId": "6512dcb1-2de9-4812-eaae-8ec52cb9a4b2"
      },
      "outputs": [
        {
          "name": "stdout",
          "output_type": "stream",
          "text": [
            "Maximum of the three numbers: 10\n",
            "\n",
            "\n",
            "Shriverdhan Pathak\n",
            "0827CI211181\n"
          ]
        }
      ],
      "source": [
        "# Write a function to find the maximum of three numbers.\n",
        "\n",
        "def find_maximum(a, b, c):\n",
        "    \"\"\"\n",
        "    Function to find the maximum of three numbers.\n",
        "\n",
        "    Parameters:\n",
        "    a: The first number.\n",
        "    b: The second number.\n",
        "    c: The third number.\n",
        "\n",
        "    Returns:\n",
        "    The maximum of the three numbers.\n",
        "    \"\"\"\n",
        "    if a >= b:\n",
        "        if a >= c:\n",
        "            return a\n",
        "        else:\n",
        "            return c\n",
        "    else:\n",
        "        if b >= c:\n",
        "            return b\n",
        "        else:\n",
        "            return c\n",
        "\n",
        "# Example usage:\n",
        "result = find_maximum(10, 5, 8)\n",
        "print(\"Maximum of the three numbers:\", result)\n",
        "print(\"\\n\")\n",
        "print(\"Shriverdhan Pathak\")\n",
        "print(\"0827CI211181\")"
      ]
    },
    {
      "cell_type": "code",
      "execution_count": 44,
      "metadata": {
        "colab": {
          "base_uri": "https://localhost:8080/"
        },
        "id": "TdDpf0Dca1Hz",
        "outputId": "80fc9039-7e01-4f9e-8a18-4d07c60be407"
      },
      "outputs": [
        {
          "name": "stdout",
          "output_type": "stream",
          "text": [
            "1\n",
            "2\n",
            "3\n",
            "Hello\n",
            "world\n",
            "!\n",
            "\n",
            "\n",
            "Shriverdhan Pathak\n",
            "0827CI211181\n"
          ]
        }
      ],
      "source": [
        "# Write a python function to use arbitrary argument\n",
        "\n",
        "def print_arguments(*args):\n",
        "    \"\"\"\n",
        "    Function to print arbitrary arguments passed to it.\n",
        "\n",
        "    Parameters:\n",
        "    *args: Arbitrary number of arguments.\n",
        "\n",
        "    Returns:\n",
        "    None\n",
        "    \"\"\"\n",
        "    for arg in args:\n",
        "        print(arg)\n",
        "\n",
        "# Example usage:\n",
        "print_arguments(1, 2, 3)\n",
        "print_arguments('Hello', 'world', '!')\n",
        "print(\"\\n\")\n",
        "print(\"Shriverdhan Pathak\")\n",
        "print(\"0827CI211181\")"
      ]
    },
    {
      "cell_type": "code",
      "execution_count": 45,
      "metadata": {
        "colab": {
          "base_uri": "https://localhost:8080/"
        },
        "id": "AKZqp6lEb1zg",
        "outputId": "710f09f8-bc6f-44fc-996c-0c4cbc0c6706"
      },
      "outputs": [
        {
          "name": "stdout",
          "output_type": "stream",
          "text": [
            "Original string: hello\n",
            "Reversed string: olleh\n",
            "\n",
            "\n",
            "Shriverdhan Pathak\n",
            "0827CI211181\n"
          ]
        }
      ],
      "source": [
        "# Write a Python function to reverse a string\n",
        "\n",
        "def reverse_string(input_string):\n",
        "    \"\"\"\n",
        "    Function to reverse a given string.\n",
        "\n",
        "    Parameters:\n",
        "    input_string (str): The string to be reversed.\n",
        "\n",
        "    Returns:\n",
        "    str: The reversed string.\n",
        "    \"\"\"\n",
        "    return input_string[::-1]\n",
        "\n",
        "# Example usage:\n",
        "original_string = \"hello\"\n",
        "reversed_string = reverse_string(original_string)\n",
        "print(\"Original string:\", original_string)\n",
        "print(\"Reversed string:\", reversed_string)\n",
        "print(\"\\n\")\n",
        "print(\"Shriverdhan Pathak\")\n",
        "print(\"0827CI211181\")"
      ]
    },
    {
      "cell_type": "code",
      "execution_count": 46,
      "metadata": {
        "colab": {
          "base_uri": "https://localhost:8080/"
        },
        "id": "NOXaqzYGcTyW",
        "outputId": "0f28fe53-1ae1-4927-cfa7-0597cdda3aa1"
      },
      "outputs": [
        {
          "name": "stdout",
          "output_type": "stream",
          "text": [
            "\n",
            "    This is an example function.\n",
            "    It does nothing.\n",
            "    \n",
            "\n",
            "\n",
            "Shriverdhan Pathak\n",
            "0827CI211181\n"
          ]
        }
      ],
      "source": [
        "# Write a Python function to print the document string\n",
        "\n",
        "def print_docstring(func):\n",
        "    \"\"\"\n",
        "    Function to print the docstring of a given function.\n",
        "\n",
        "    Parameters:\n",
        "    func: The function whose docstring is to be printed.\n",
        "\n",
        "    Returns:\n",
        "    None\n",
        "    \"\"\"\n",
        "    print(func.__doc__)\n",
        "\n",
        "# Example usage:\n",
        "def example_function():\n",
        "    \"\"\"\n",
        "    This is an example function.\n",
        "    It does nothing.\n",
        "    \"\"\"\n",
        "    pass\n",
        "\n",
        "print_docstring(example_function)\n",
        "print(\"\\n\")\n",
        "print(\"Shriverdhan Pathak\")\n",
        "print(\"0827CI211181\")"
      ]
    },
    {
      "cell_type": "code",
      "execution_count": 47,
      "metadata": {
        "colab": {
          "base_uri": "https://localhost:8080/"
        },
        "id": "2bOQm0RwcpU2",
        "outputId": "e2618f0b-4803-4e05-f6e7-e3d127d1c022"
      },
      "outputs": [
        {
          "name": "stdout",
          "output_type": "stream",
          "text": [
            "Inside the function:\n",
            "Local variable: I am local\n",
            "Global variable: I am global\n",
            "Accessing global variable outside the function: I am global\n",
            "\n",
            "\n",
            "Shriverdhan Pathak\n",
            "0827CI211181\n"
          ]
        }
      ],
      "source": [
        "# Write a Python function to demonstrate the scope of local and global variable.\n",
        "\n",
        "global_variable = \"I am global\"\n",
        "\n",
        "def demonstrate_scope():\n",
        "    \"\"\"\n",
        "    Function to demonstrate the scope of local and global variables.\n",
        "    \"\"\"\n",
        "    local_variable = \"I am local\"\n",
        "    print(\"Inside the function:\")\n",
        "    print(\"Local variable:\", local_variable)\n",
        "    print(\"Global variable:\", global_variable)\n",
        "\n",
        "# Call the function\n",
        "demonstrate_scope()\n",
        "\n",
        "# Attempt to access local_variable outside the function - this will raise an error\n",
        "# print(\"Outside the function:\")\n",
        "# print(\"Local variable:\", local_variable)\n",
        "\n",
        "# Access global_variable outside the function\n",
        "print(\"Accessing global variable outside the function:\", global_variable)\n",
        "print(\"\\n\")\n",
        "print(\"Shriverdhan Pathak\")\n",
        "print(\"0827CI211181\")"
      ]
    },
    {
      "cell_type": "code",
      "execution_count": 48,
      "metadata": {
        "colab": {
          "base_uri": "https://localhost:8080/"
        },
        "id": "YkJMfgrDc4rJ",
        "outputId": "4cd764a1-f1c9-4f2a-acc8-38f68dcd9962"
      },
      "outputs": [
        {
          "name": "stdout",
          "output_type": "stream",
          "text": [
            "The factorial of 5 is: 120\n",
            "\n",
            "\n",
            "Shriverdhan Pathak\n",
            "0827CI211181\n"
          ]
        }
      ],
      "source": [
        "# Write a Python function to calculate the factorial of a number (a nonnegative integer). The function accepts the number as an argument\n",
        "\n",
        "def factorial(n):\n",
        "    \"\"\"\n",
        "    Function to calculate the factorial of a nonnegative integer.\n",
        "\n",
        "    Parameters:\n",
        "    n (int): The number whose factorial is to be calculated.\n",
        "\n",
        "    Returns:\n",
        "    int: The factorial of the input number.\n",
        "    \"\"\"\n",
        "    if n < 0:\n",
        "        return \"Factorial is not defined for negative numbers\"\n",
        "    elif n == 0 or n == 1:\n",
        "        return 1\n",
        "    else:\n",
        "        result = 1\n",
        "        for i in range(2, n + 1):\n",
        "            result *= i\n",
        "        return result\n",
        "\n",
        "# Example usage:\n",
        "number = 5\n",
        "print(f\"The factorial of {number} is:\", factorial(number))\n",
        "print(\"\\n\")\n",
        "print(\"Shriverdhan Pathak\")\n",
        "print(\"0827CI211181\")"
      ]
    },
    {
      "cell_type": "code",
      "execution_count": 49,
      "metadata": {
        "colab": {
          "base_uri": "https://localhost:8080/"
        },
        "id": "DjH2kpjTdFiA",
        "outputId": "9b9b80d5-d695-4d23-95e4-7c026b934e54"
      },
      "outputs": [
        {
          "name": "stdout",
          "output_type": "stream",
          "text": [
            "7 falls within the range [5, 10]\n",
            "\n",
            "\n",
            "Shriverdhan Pathak\n",
            "0827CI211181\n"
          ]
        }
      ],
      "source": [
        "# Write a Python function to check whether a number falls within a given range.\n",
        "\n",
        "def check_range(number, start, end):\n",
        "    \"\"\"\n",
        "    Function to check whether a number falls within a given range.\n",
        "\n",
        "    Parameters:\n",
        "    number: The number to check.\n",
        "    start: The start of the range (inclusive).\n",
        "    end: The end of the range (inclusive).\n",
        "\n",
        "    Returns:\n",
        "    bool: True if the number falls within the range, False otherwise.\n",
        "    \"\"\"\n",
        "    return start <= number <= end\n",
        "\n",
        "# Example usage:\n",
        "num = 7\n",
        "start_range = 5\n",
        "end_range = 10\n",
        "\n",
        "if check_range(num, start_range, end_range):\n",
        "    print(f\"{num} falls within the range [{start_range}, {end_range}]\")\n",
        "else:\n",
        "    print(f\"{num} does not fall within the range [{start_range}, {end_range}]\")\n",
        "\n",
        "print(\"\\n\")\n",
        "print(\"Shriverdhan Pathak\")\n",
        "print(\"0827CI211181\")"
      ]
    },
    {
      "cell_type": "code",
      "execution_count": 50,
      "metadata": {
        "colab": {
          "base_uri": "https://localhost:8080/"
        },
        "id": "CKul72Gsda1o",
        "outputId": "09fe9161-3cc2-462d-dd57-090dfdaf90e2"
      },
      "outputs": [
        {
          "name": "stdout",
          "output_type": "stream",
          "text": [
            "Number of upper case letters: 2\n",
            "Number of lower case letters: 8\n",
            "\n",
            "\n",
            "Shriverdhan Pathak\n",
            "0827CI211181\n"
          ]
        }
      ],
      "source": [
        "# Write a Python function that accepts a string and counts the number of upper and lower case letters.\n",
        "\n",
        "def count_upper_lower(string):\n",
        "    \"\"\"\n",
        "    Function to count the number of upper and lower case letters in a string.\n",
        "\n",
        "    Parameters:\n",
        "    string (str): The input string.\n",
        "\n",
        "    Returns:\n",
        "    tuple: A tuple containing the count of upper case letters and lower case letters, respectively.\n",
        "    \"\"\"\n",
        "    upper_count = 0\n",
        "    lower_count = 0\n",
        "    for char in string:\n",
        "        if char.isupper():\n",
        "            upper_count += 1\n",
        "        elif char.islower():\n",
        "            lower_count += 1\n",
        "    return upper_count, lower_count\n",
        "\n",
        "# Example usage:\n",
        "input_string = \"Hello World\"\n",
        "upper, lower = count_upper_lower(input_string)\n",
        "print(\"Number of upper case letters:\", upper)\n",
        "print(\"Number of lower case letters:\", lower)\n",
        "\n",
        "print(\"\\n\")\n",
        "print(\"Shriverdhan Pathak\")\n",
        "print(\"0827CI211181\")\n"
      ]
    },
    {
      "cell_type": "code",
      "execution_count": 52,
      "metadata": {
        "colab": {
          "base_uri": "https://localhost:8080/"
        },
        "id": "uCc-pj-CduM5",
        "outputId": "b952a5a6-bedc-4c9e-fedd-8a9798a054c8"
      },
      "outputs": [
        {
          "name": "stdout",
          "output_type": "stream",
          "text": [
            "Original List: [1, 2, 2, 3, 3, 4, 5, 5]\n",
            "Distinct List: [1, 2, 3, 4, 5]\n",
            "\n",
            "\n",
            "Shriverdhan Pathak\n",
            "0827CI211181\n"
          ]
        }
      ],
      "source": [
        "# Write a Python function that takes a list and returns a new list with distinct elements from the first list.\n",
        "\n",
        "def distinct_elements(input_list):\n",
        "    \"\"\"\n",
        "    Function to return a new list with distinct elements from the input list.\n",
        "\n",
        "    Parameters:\n",
        "    input_list (list): The input list.\n",
        "\n",
        "    Returns:\n",
        "    list: A new list with distinct elements.\n",
        "    \"\"\"\n",
        "    return list(set(input_list))\n",
        "\n",
        "# Example usage:\n",
        "original_list = [1, 2, 2, 3, 3, 4, 5, 5]\n",
        "distinct_list = distinct_elements(original_list)\n",
        "print(\"Original List:\", original_list)\n",
        "print(\"Distinct List:\", distinct_list)\n",
        "print(\"\\n\")\n",
        "print(\"Shriverdhan Pathak\")\n",
        "print(\"0827CI211181\")"
      ]
    },
    {
      "cell_type": "code",
      "execution_count": 53,
      "metadata": {
        "colab": {
          "base_uri": "https://localhost:8080/"
        },
        "id": "CNiN0qYpd-pM",
        "outputId": "0dc9893a-9f39-4499-f2db-acab4d0e4794"
      },
      "outputs": [
        {
          "name": "stdout",
          "output_type": "stream",
          "text": [
            "19 is a prime number.\n",
            "\n",
            "\n",
            "Shriverdhan Pathak\n",
            "0827CI211181\n"
          ]
        }
      ],
      "source": [
        "# Write a Python function that takes a number as a parameter and checks whether the numberis prime or not\n",
        "\n",
        "def is_prime(number):\n",
        "    \"\"\"\n",
        "    Function to check whether a number is prime or not.\n",
        "\n",
        "    Parameters:\n",
        "    number (int): The number to check.\n",
        "\n",
        "    Returns:\n",
        "    bool: True if the number is prime, False otherwise.\n",
        "    \"\"\"\n",
        "    if number <= 1:\n",
        "        return False\n",
        "    elif number <= 3:\n",
        "        return True\n",
        "    elif number % 2 == 0 or number % 3 == 0:\n",
        "        return False\n",
        "    else:\n",
        "        i = 5\n",
        "        while i * i <= number:\n",
        "            if number % i == 0 or number % (i + 2) == 0:\n",
        "                return False\n",
        "            i += 6\n",
        "        return True\n",
        "\n",
        "# Example usage:\n",
        "num = 19\n",
        "if is_prime(num):\n",
        "    print(f\"{num} is a prime number.\")\n",
        "else:\n",
        "    print(f\"{num} is not a prime number.\")\n",
        "print(\"\\n\")\n",
        "print(\"Shriverdhan Pathak\")\n",
        "print(\"0827CI211181\")"
      ]
    },
    {
      "cell_type": "code",
      "execution_count": 54,
      "metadata": {
        "colab": {
          "base_uri": "https://localhost:8080/"
        },
        "id": "BClX_nEwfMTd",
        "outputId": "bd017406-09f1-4298-9d0a-790584b3f6ad"
      },
      "outputs": [
        {
          "name": "stdout",
          "output_type": "stream",
          "text": [
            "This is the outer function.\n",
            "This is the inner function.\n",
            "\n",
            "\n",
            "Shriverdhan Pathak\n",
            "0827CI211181\n"
          ]
        }
      ],
      "source": [
        "# Write a Python program to access a function inside a function\n",
        "\n",
        "def outer_function():\n",
        "    \"\"\"\n",
        "    Outer function.\n",
        "    \"\"\"\n",
        "    print(\"This is the outer function.\")\n",
        "\n",
        "    def inner_function():\n",
        "        \"\"\"\n",
        "        Inner function.\n",
        "        \"\"\"\n",
        "        print(\"This is the inner function.\")\n",
        "\n",
        "    # Call the inner function\n",
        "    inner_function()\n",
        "\n",
        "# Call the outer function\n",
        "outer_function()\n",
        "print(\"\\n\")\n",
        "print(\"Shriverdhan Pathak\")\n",
        "print(\"0827CI211181\")"
      ]
    },
    {
      "cell_type": "code",
      "execution_count": 55,
      "metadata": {
        "colab": {
          "base_uri": "https://localhost:8080/"
        },
        "id": "JNFQ2Tq3hPLf",
        "outputId": "4111aecd-c2b2-4eed-efd6-f3966dfaff95"
      },
      "outputs": [
        {
          "name": "stdout",
          "output_type": "stream",
          "text": [
            "'A man a plan a canal Panama' is a palindrome.\n",
            "\n",
            "\n",
            "Shriverdhan Pathak\n",
            "0827CI211181\n"
          ]
        }
      ],
      "source": [
        "# Write a Python function that checks whether a passed string is a palindrome or not.\n",
        "\n",
        "def is_palindrome(string):\n",
        "    \"\"\"\n",
        "    Function to check whether a passed string is a palindrome or not.\n",
        "\n",
        "    Parameters:\n",
        "    string (str): The string to check.\n",
        "\n",
        "    Returns:\n",
        "    bool: True if the string is a palindrome, False otherwise.\n",
        "    \"\"\"\n",
        "    # Convert the string to lowercase and remove spaces\n",
        "    clean_string = string.lower().replace(\" \", \"\")\n",
        "\n",
        "    # Compare the string with its reverse\n",
        "    return clean_string == clean_string[::-1]\n",
        "\n",
        "# Example usage:\n",
        "input_string = \"A man a plan a canal Panama\"\n",
        "if is_palindrome(input_string):\n",
        "    print(f\"'{input_string}' is a palindrome.\")\n",
        "else:\n",
        "    print(f\"'{input_string}' is not a palindrome.\")\n",
        "print(\"\\n\")\n",
        "print(\"Shriverdhan Pathak\")\n",
        "print(\"0827CI211181\")"
      ]
    },
    {
      "cell_type": "code",
      "execution_count": 56,
      "metadata": {
        "colab": {
          "base_uri": "https://localhost:8080/"
        },
        "id": "XQRzDvLPh06f",
        "outputId": "ff18b384-c72f-4b55-baab-5c84d4665daf"
      },
      "outputs": [
        {
          "name": "stdout",
          "output_type": "stream",
          "text": [
            "List of squares of numbers between 1 and 30: [1, 4, 9, 16, 25, 36, 49, 64, 81, 100, 121, 144, 169, 196, 225, 256, 289, 324, 361, 400, 441, 484, 529, 576, 625, 676, 729, 784, 841, 900]\n",
            "\n",
            "\n",
            "Shriverdhan Pathak\n",
            "0827CI211181\n"
          ]
        }
      ],
      "source": [
        "# Write a python function to create and print a list where the values are the squares of numbers between 1 and 30\n",
        "\n",
        "def squares_list():\n",
        "    \"\"\"\n",
        "    Function to create and print a list where the values are the squares of numbers between 1 and 30.\n",
        "\n",
        "    Returns:\n",
        "    list: A list containing the squares of numbers between 1 and 30.\n",
        "    \"\"\"\n",
        "    squares = [x ** 2 for x in range(1, 31)]\n",
        "    return squares\n",
        "\n",
        "# Example usage:\n",
        "squares = squares_list()\n",
        "print(\"List of squares of numbers between 1 and 30:\", squares)\n",
        "print(\"\\n\")\n",
        "print(\"Shriverdhan Pathak\")\n",
        "print(\"0827CI211181\")"
      ]
    },
    {
      "cell_type": "code",
      "execution_count": 57,
      "metadata": {
        "colab": {
          "base_uri": "https://localhost:8080/"
        },
        "id": "S49tW6OqnBYH",
        "outputId": "890df0c0-590d-4d6d-e14a-a544384a0d01"
      },
      "outputs": [
        {
          "name": "stdout",
          "output_type": "stream",
          "text": [
            "Even numbers from the given list: [2, 4, 6, 8, 10]\n",
            "\n",
            "\n",
            "Shriverdhan Pathak\n",
            "0827CI211181\n"
          ]
        }
      ],
      "source": [
        "# Write a Python program to print the even numbers from a given list\n",
        "\n",
        "def print_even_numbers(input_list):\n",
        "    \"\"\"\n",
        "    Function to print the even numbers from a given list.\n",
        "\n",
        "    Parameters:\n",
        "    input_list (list): The input list.\n",
        "\n",
        "    Returns:\n",
        "    None\n",
        "    \"\"\"\n",
        "    even_numbers = [num for num in input_list if num % 2 == 0]\n",
        "    print(\"Even numbers from the given list:\", even_numbers)\n",
        "\n",
        "# Example usage:\n",
        "numbers = [1, 2, 3, 4, 5, 6, 7, 8, 9, 10]\n",
        "print_even_numbers(numbers)\n",
        "print(\"\\n\")\n",
        "print(\"Shriverdhan Pathak\")\n",
        "print(\"0827CI211181\")"
      ]
    },
    {
      "cell_type": "code",
      "execution_count": 58,
      "metadata": {
        "colab": {
          "base_uri": "https://localhost:8080/"
        },
        "id": "arxfdehDnNZc",
        "outputId": "0178d071-e428-4afe-98b8-ee89bd76079b"
      },
      "outputs": [
        {
          "name": "stdout",
          "output_type": "stream",
          "text": [
            "Student Data:\n",
            "Name: Ramesh Kumar\n",
            "Roll No: 12345\n",
            "Semester: Spring 2024\n",
            "\n",
            "\n",
            "Shriverdhan Pathak\n",
            "0827CI211181\n"
          ]
        }
      ],
      "source": [
        "# Write a program to create a class student with data member name. roll no. Semester. and display the data using object\n",
        "\n",
        "\n",
        "class Student:\n",
        "    \"\"\"\n",
        "    Class representing a student.\n",
        "    \"\"\"\n",
        "    def __init__(self, name, roll_no, semester):\n",
        "        \"\"\"\n",
        "        Constructor to initialize the data members of the Student class.\n",
        "\n",
        "        Parameters:\n",
        "        name (str): The name of the student.\n",
        "        roll_no (str): The roll number of the student.\n",
        "        semester (str): The semester of the student.\n",
        "        \"\"\"\n",
        "        self.name = name\n",
        "        self.roll_no = roll_no\n",
        "        self.semester = semester\n",
        "\n",
        "    def display_data(self):\n",
        "        \"\"\"\n",
        "        Method to display the data of the student.\n",
        "        \"\"\"\n",
        "        print(\"Name:\", self.name)\n",
        "        print(\"Roll No:\", self.roll_no)\n",
        "        print(\"Semester:\", self.semester)\n",
        "\n",
        "# Create an object of the Student class\n",
        "student1 = Student(\"Ramesh Kumar\", \"12345\", \"Spring 2024\")\n",
        "\n",
        "# Display the data using the object\n",
        "print(\"Student Data:\")\n",
        "student1.display_data()"
      ]
    },
    {
      "cell_type": "code",
      "execution_count": 59,
      "metadata": {
        "colab": {
          "base_uri": "https://localhost:8080/"
        },
        "id": "INpkHkwZnuyK",
        "outputId": "f7e5299c-d355-4d03-d5db-8320080cbcca"
      },
      "outputs": [
        {
          "name": "stdout",
          "output_type": "stream",
          "text": [
            "Car Information: 2022 Toyota Corolla\n",
            "This car has 0 miles on it.\n",
            "\n",
            "\n",
            "Shriverdhan Pathak\n",
            "0827CI211181\n"
          ]
        }
      ],
      "source": [
        "# Write a program to demonstrate the use of _init_()\n",
        "\n",
        "class Car:\n",
        "    \"\"\"\n",
        "    Class representing a car.\n",
        "    \"\"\"\n",
        "    def __init__(self, make, model, year):\n",
        "        \"\"\"\n",
        "        Constructor to initialize the data members of the Car class.\n",
        "\n",
        "        Parameters:\n",
        "        make (str): The make of the car.\n",
        "        model (str): The model of the car.\n",
        "        year (int): The manufacturing year of the car.\n",
        "        \"\"\"\n",
        "        self.make = make\n",
        "        self.model = model\n",
        "        self.year = year\n",
        "        self.odometer_reading = 0  # Additional attribute\n",
        "\n",
        "    def get_car_info(self):\n",
        "        \"\"\"\n",
        "        Method to display information about the car.\n",
        "        \"\"\"\n",
        "        car_info = f\"{self.year} {self.make} {self.model}\"\n",
        "        return car_info\n",
        "\n",
        "    def read_odometer(self):\n",
        "        \"\"\"\n",
        "        Method to read the odometer reading of the car.\n",
        "        \"\"\"\n",
        "        print(f\"This car has {self.odometer_reading} miles on it.\")\n",
        "\n",
        "# Create an object of the Car class\n",
        "my_car = Car(\"Toyota\", \"Corolla\", 2022)\n",
        "\n",
        "# Display information about the car\n",
        "print(\"Car Information:\", my_car.get_car_info())\n",
        "\n",
        "# Read the odometer reading of the car\n",
        "my_car.read_odometer()\n",
        "print(\"\\n\")\n",
        "print(\"Shriverdhan Pathak\")\n",
        "print(\"0827CI211181\")"
      ]
    },
    {
      "cell_type": "code",
      "execution_count": 60,
      "metadata": {
        "colab": {
          "base_uri": "https://localhost:8080/"
        },
        "id": "MV4tGEA2oAIq",
        "outputId": "4f66b0a9-1a60-4893-c851-30f139bb7f50"
      },
      "outputs": [
        {
          "name": "stdout",
          "output_type": "stream",
          "text": [
            "This is the parent method.\n",
            "This is the child method.\n",
            "This is method 1 of Parent1.\n",
            "This is method 2 of Parent2.\n",
            "This is the child1 method.\n",
            "This is the grandparent method.\n",
            "This is the parent method.\n",
            "This is the child method.\n",
            "This is method 1 of Parent4.\n",
            "This is method 2 of Parent5.\n",
            "This is method 3 of Parent6.\n",
            "This is the child method.\n",
            "This is the parent method.\n",
            "This is the child1 method.\n",
            "This is the parent method.\n",
            "This is the child2 method.\n",
            "\n",
            "\n",
            "Shriverdhan Pathak\n",
            "0827CI211181\n"
          ]
        }
      ],
      "source": [
        "# Write a program for Inheritence.a) single level b) Multiple c) Multilevel d) Hybrid e) Hierarchical\n",
        "\n",
        "# Single level inheritance\n",
        "class Parent:\n",
        "    def parent_method(self):\n",
        "        print(\"This is the parent method.\")\n",
        "\n",
        "class Child(Parent):\n",
        "    def child_method(self):\n",
        "        print(\"This is the child method.\")\n",
        "\n",
        "# Single level inheritance\n",
        "child_obj = Child()\n",
        "child_obj.parent_method()\n",
        "child_obj.child_method()\n",
        "\n",
        "# Multiple inheritance\n",
        "class Parent1:\n",
        "    def method1(self):\n",
        "        print(\"This is method 1 of Parent1.\")\n",
        "\n",
        "class Parent2:\n",
        "    def method2(self):\n",
        "        print(\"This is method 2 of Parent2.\")\n",
        "\n",
        "class Child1(Parent1, Parent2):\n",
        "    def child_method1(self):\n",
        "        print(\"This is the child1 method.\")\n",
        "\n",
        "# Multiple inheritance\n",
        "child_obj1 = Child1()\n",
        "child_obj1.method1()\n",
        "child_obj1.method2()\n",
        "child_obj1.child_method1()\n",
        "\n",
        "# Multilevel inheritance\n",
        "class Grandparent:\n",
        "    def grandparent_method(self):\n",
        "        print(\"This is the grandparent method.\")\n",
        "\n",
        "class Parent3(Grandparent):\n",
        "    def parent_method2(self):\n",
        "        print(\"This is the parent method.\")\n",
        "\n",
        "class Child2(Parent3):\n",
        "    def child_method2(self):\n",
        "        print(\"This is the child method.\")\n",
        "\n",
        "# Multilevel inheritance\n",
        "child_obj2 = Child2()\n",
        "child_obj2.grandparent_method()\n",
        "child_obj2.parent_method2()\n",
        "child_obj2.child_method2()\n",
        "\n",
        "# Hybrid inheritance\n",
        "class Parent4:\n",
        "    def method1(self):\n",
        "        print(\"This is method 1 of Parent4.\")\n",
        "\n",
        "class Parent5:\n",
        "    def method2(self):\n",
        "        print(\"This is method 2 of Parent5.\")\n",
        "\n",
        "class Parent6:\n",
        "    def method3(self):\n",
        "        print(\"This is method 3 of Parent6.\")\n",
        "\n",
        "class Child3(Parent4, Parent5, Parent6):\n",
        "    def child_method3(self):\n",
        "        print(\"This is the child method.\")\n",
        "\n",
        "# Hybrid inheritance\n",
        "child_obj3 = Child3()\n",
        "child_obj3.method1()\n",
        "child_obj3.method2()\n",
        "child_obj3.method3()\n",
        "child_obj3.child_method3()\n",
        "\n",
        "# Hierarchical inheritance\n",
        "class Parent7:\n",
        "    def parent_method4(self):\n",
        "        print(\"This is the parent method.\")\n",
        "\n",
        "class Child4(Parent7):\n",
        "    def child1_method4(self):\n",
        "        print(\"This is the child1 method.\")\n",
        "\n",
        "class Child5(Parent7):\n",
        "    def child2_method4(self):\n",
        "        print(\"This is the child2 method.\")\n",
        "\n",
        "# Hierarchical inheritance\n",
        "child1_obj = Child4()\n",
        "child1_obj.parent_method4()\n",
        "child1_obj.child1_method4()\n",
        "\n",
        "child2_obj = Child5()\n",
        "child2_obj.parent_method4()\n",
        "child2_obj.child2_method4()\n",
        "print(\"\\n\")\n",
        "print(\"Shriverdhan Pathak\")\n",
        "print(\"0827CI211181\")\n",
        "\n",
        "\n",
        "\n"
      ]
    },
    {
      "cell_type": "code",
      "execution_count": 61,
      "metadata": {
        "colab": {
          "base_uri": "https://localhost:8080/"
        },
        "id": "aaoQ04Esqtnn",
        "outputId": "a414a6ba-6ee9-4b58-b80f-d21d6cd0cc67"
      },
      "outputs": [
        {
          "name": "stdout",
          "output_type": "stream",
          "text": [
            "Calling show_message() method of Parent class:\n",
            "This is the parent message.\n",
            "\n",
            "Calling show_message() method of Child class:\n",
            "This is the overridden message.\n",
            "\n",
            "\n",
            "Shriverdhan Pathak\n",
            "0827CI211181\n"
          ]
        }
      ],
      "source": [
        "# Write a program to demonstrate overriding\n",
        "\n",
        "class Parent:\n",
        "    def show_message(self):\n",
        "        print(\"This is the parent message.\")\n",
        "\n",
        "class Child(Parent):\n",
        "    def show_message(self):\n",
        "        print(\"This is the overridden message.\")\n",
        "\n",
        "# Create objects of both Parent and Child classes\n",
        "parent_obj = Parent()\n",
        "child_obj = Child()\n",
        "\n",
        "# Call the method on each object\n",
        "print(\"Calling show_message() method of Parent class:\")\n",
        "parent_obj.show_message()\n",
        "\n",
        "print(\"\\nCalling show_message() method of Child class:\")\n",
        "child_obj.show_message()\n",
        "\n",
        "print(\"\\n\")\n",
        "print(\"Shriverdhan Pathak\")\n",
        "print(\"0827CI211181\")\n"
      ]
    }
  ],
  "metadata": {
    "colab": {
      "provenance": []
    },
    "kernelspec": {
      "display_name": "Python 3",
      "name": "python3"
    },
    "language_info": {
      "name": "python"
    }
  },
  "nbformat": 4,
  "nbformat_minor": 0
}
