{
  "cells": [
    {
      "cell_type": "code",
      "execution_count": 2,
      "metadata": {
        "colab": {
          "base_uri": "https://localhost:8080/"
        },
        "id": "7sI9sYaozF7-",
        "outputId": "5146c1dc-4e0d-4b76-cfd3-fa10b649402d"
      },
      "outputs": [
        {
          "name": "stdout",
          "output_type": "stream",
          "text": [
            "Number of occurrences of item 50: 3\n",
            "Ritesh Telkar\n",
            "0827CI211158\n"
          ]
        }
      ],
      "source": [
        "# Write a program to Counts the number of occurrences of item 50 from a tuple.\n",
        "def count_occurrences(tuple, item):\n",
        "    count = 0\n",
        "    for element in tuple:\n",
        "        if element == item:\n",
        "            count += 1\n",
        "    return count\n",
        "\n",
        "# Example tuple\n",
        "example_tuple = (10, 20, 30, 40, 50, 50, 50, 60, 70)\n",
        "\n",
        "# Count occurrences of item 50\n",
        "occurrences = count_occurrences(example_tuple, 50)\n",
        "print(\"Number of occurrences of item 50:\", occurrences)\n",
        "print(\"Ritesh Telkar\")\n",
        "print(\"0827CI211158\")\n"
      ]
    },
    {
      "cell_type": "code",
      "execution_count": 1,
      "metadata": {
        "colab": {
          "base_uri": "https://localhost:8080/"
        },
        "id": "v2tycI9P2Kps",
        "outputId": "22dcc7b1-291d-4879-da4e-7ff0f3e64fba"
      },
      "outputs": [
        {
          "name": "stdout",
          "output_type": "stream",
          "text": [
            "All items in tuple1 are the same\n",
            "Not all items in tuple2 are the same\n",
            "Ritesh Telkar\n",
            "0827CI211158\n"
          ]
        }
      ],
      "source": [
        "# Write a program to Check if all items in the tuple are the same\n",
        "def all_same(tuple):\n",
        "    # Check if all elements are the same\n",
        "    return all(element == tuple[0] for element in tuple)\n",
        "\n",
        "# Example tuples\n",
        "tuple1 = (10, 10, 10, 10)\n",
        "tuple2 = (10, 20, 10, 10)\n",
        "\n",
        "# Check if all items in tuple1 are the same\n",
        "if all_same(tuple1):\n",
        "    print(\"All items in tuple1 are the same\")\n",
        "else:\n",
        "    print(\"Not all items in tuple1 are the same\")\n",
        "\n",
        "# Check if all items in tuple2 are the same\n",
        "if all_same(tuple2):\n",
        "    print(\"All items in tuple2 are the same\")\n",
        "else:\n",
        "    print(\"Not all items in tuple2 are the same\")\n",
        "print(\"Ritesh Telkar\")\n",
        "print(\"0827CI211158\")"
      ]
    },
    {
      "cell_type": "code",
      "execution_count": 3,
      "metadata": {
        "colab": {
          "base_uri": "https://localhost:8080/"
        },
        "id": "2zF4Jlke2W1P",
        "outputId": "14067b17-10dd-4a01-e2ea-637a39232b74"
      },
      "outputs": [
        {
          "name": "stdout",
          "output_type": "stream",
          "text": [
            "Element from the list within the tuple: 2\n",
            "Ritesh Telkar\n",
            "0827CI211158\n"
          ]
        }
      ],
      "source": [
        "# Write a Program to create a tuple which is having integer,float,list and tuple as its elements and print an element present in list of these tuple\n",
        "# Define the tuple with different types of elements\n",
        "mixed_tuple = (10, 3.14, [1, 2, 3], ('a', 'b', 'c'))\n",
        "\n",
        "# Function to print an element from a list within the tuple\n",
        "def print_list_element(tuple):\n",
        "    # Get the list from the tuple\n",
        "    list_element = tuple[2]\n",
        "    # Print an element from the list\n",
        "    print(\"Element from the list within the tuple:\", list_element[1])\n",
        "\n",
        "# Call the function to print an element from the list within the tuple\n",
        "print_list_element(mixed_tuple)\n",
        "print(\"Ritesh Telkar\")\n",
        "print(\"0827CI211158\")\n"
      ]
    },
    {
      "cell_type": "code",
      "execution_count": 4,
      "metadata": {
        "colab": {
          "base_uri": "https://localhost:8080/"
        },
        "id": "UG8nxWvg3Bv9",
        "outputId": "b1782a3e-d84b-4e10-db35-2f1c7775881e"
      },
      "outputs": [
        {
          "name": "stdout",
          "output_type": "stream",
          "text": [
            "Enter the name of the city to check: Kolkata\n",
            "Kolkata is present in the tuple of Indian cities.\n",
            "Ritesh Telkar\n",
            "0827CI211158\n"
          ]
        }
      ],
      "source": [
        "#Write a program to create a tuple with the name of 10 cities of India Check whether a City is present in the tuple or not\n",
        "def city_present(city, cities_tuple):\n",
        "    # Check if the city is present in the tuple\n",
        "    return city in cities_tuple\n",
        "\n",
        "# Create a tuple with the names of 10 cities of India\n",
        "indian_cities = ('Delhi', 'Mumbai', 'Bangalore', 'Kolkata', 'Chennai', 'Hyderabad', 'Pune', 'Ahmedabad', 'Jaipur', 'Lucknow')\n",
        "\n",
        "# Input city to check\n",
        "city_to_check = input(\"Enter the name of the city to check: \")\n",
        "\n",
        "# Check if the city is present in the tuple\n",
        "if city_present(city_to_check, indian_cities):\n",
        "    print(city_to_check, \"is present in the tuple of Indian cities.\")\n",
        "else:\n",
        "    print(city_to_check, \"is not present in the tuple of Indian cities.\")\n",
        "print(\"Ritesh Telkar\")\n",
        "print(\"0827CI211158\")\n"
      ]
    },
    {
      "cell_type": "code",
      "execution_count": 5,
      "metadata": {
        "colab": {
          "base_uri": "https://localhost:8080/"
        },
        "id": "9ejtUTmQ3gGG",
        "outputId": "05cc2a06-88ad-4ad8-85d4-e6a9767596ee"
      },
      "outputs": [
        {
          "name": "stdout",
          "output_type": "stream",
          "text": [
            "Enter the word to count occurrences: apple\n",
            "Number of occurrences of apple in the tuple: 2\n",
            "Ritesh Telkar\n",
            "0827CI211158\n"
          ]
        }
      ],
      "source": [
        "# Write a program to get the number of occurrence of a word in tuple.\n",
        "def count_word_occurrences(word, tuple_of_strings):\n",
        "    count = 0\n",
        "    for string in tuple_of_strings:\n",
        "        # Split the string into words and count occurrences of the target word\n",
        "        count += string.count(word)\n",
        "    return count\n",
        "\n",
        "# Example tuple of strings\n",
        "tuple_of_strings = (\"apple banana\", \"banana orange\", \"banana apple\", \"orange mango banana\")\n",
        "\n",
        "# Word to count occurrences of\n",
        "word_to_count = input(\"Enter the word to count occurrences: \")\n",
        "\n",
        "# Count occurrences of the word in the tuple\n",
        "occurrences = count_word_occurrences(word_to_count, tuple_of_strings)\n",
        "print(\"Number of occurrences of\", word_to_count, \"in the tuple:\", occurrences)\n",
        "print(\"Ritesh Telkar\")\n",
        "print(\"0827CI211158\")\n"
      ]
    },
    {
      "cell_type": "code",
      "execution_count": 6,
      "metadata": {
        "colab": {
          "base_uri": "https://localhost:8080/"
        },
        "id": "kg3J8ml43ype",
        "outputId": "59d332c8-7fc9-44e5-8e79-1d4cec2fafc9"
      },
      "outputs": [
        {
          "name": "stdout",
          "output_type": "stream",
          "text": [
            "Enter the word to find its index: the\n",
            "the not found in the tuple.\n",
            "Ritesh Telkar\n",
            "0827CI211158\n"
          ]
        }
      ],
      "source": [
        "# Write a program to get the index of a word in tuple\n",
        "def get_word_index(word, tuple_of_strings):\n",
        "    indexes = []\n",
        "    for i, string in enumerate(tuple_of_strings):\n",
        "        # Split the string into words and check if the word is present\n",
        "        if word in string:\n",
        "            indexes.append(i)\n",
        "    return indexes\n",
        "\n",
        "# Example tuple of strings\n",
        "tuple_of_strings = (\"apple banana\", \"banana orange\", \"banana apple\", \"orange mango banana\")\n",
        "\n",
        "# Word to get the index of\n",
        "word_to_find = input(\"Enter the word to find its index: \")\n",
        "\n",
        "# Get the index of the word in the tuple\n",
        "word_indexes = get_word_index(word_to_find, tuple_of_strings)\n",
        "\n",
        "if word_indexes:\n",
        "    print(\"Indexes of\", word_to_find, \"in the tuple:\", word_indexes)\n",
        "else:\n",
        "    print(word_to_find, \"not found in the tuple.\")\n",
        "print(\"Ritesh Telkar\")\n",
        "print(\"0827CI211158\")\n"
      ]
    },
    {
      "cell_type": "code",
      "execution_count": 7,
      "metadata": {
        "colab": {
          "base_uri": "https://localhost:8080/"
        },
        "id": "NKgjN3UC4MzP",
        "outputId": "d3d268a0-3370-4b2e-97c0-60897648299e"
      },
      "outputs": [
        {
          "name": "stdout",
          "output_type": "stream",
          "text": [
            "Student 1 details:\n",
            "Roll No: 101\n",
            "Name: John Doe\n",
            "CGPA: 3.8\n",
            "SGPA: 4.0\n",
            "\n",
            "Student 2 details:\n",
            "Roll No: 102\n",
            "Name: Jane Smith\n",
            "CGPA: 3.9\n",
            "SGPA: 3.9\n",
            "\n",
            "Student 3 details:\n",
            "Roll No: 103\n",
            "Name: Alice Johnson\n",
            "CGPA: 3.7\n",
            "SGPA: 3.8\n",
            "\n",
            "Student 4 details:\n",
            "Roll No: 104\n",
            "Name: Bob Brown\n",
            "CGPA: 4.0\n",
            "SGPA: 4.0\n",
            "\n",
            "Ritesh Telkar\n",
            "0827CI211158\n"
          ]
        }
      ],
      "source": [
        "# Write a program to create four tuples viz roll no. name. CGPA and SGPA of students. Print individual student's details using these 4 tuples.\n",
        "# Function to print individual student's details\n",
        "def print_student_details(roll_no, name, cgpa, sgpa):\n",
        "    print(\"Roll No:\", roll_no)\n",
        "    print(\"Name:\", name)\n",
        "    print(\"CGPA:\", cgpa)\n",
        "    print(\"SGPA:\", sgpa)\n",
        "    print()\n",
        "\n",
        "# Create tuples for student details\n",
        "roll_numbers = (101, 102, 103, 104)\n",
        "names = (\"John Doe\", \"Jane Smith\", \"Alice Johnson\", \"Bob Brown\")\n",
        "cgpa = (3.8, 3.9, 3.7, 4.0)\n",
        "sgpa = (4.0, 3.9, 3.8, 4.0)\n",
        "\n",
        "# Print individual student's details\n",
        "for i in range(len(roll_numbers)):\n",
        "    print(\"Student\", i+1, \"details:\")\n",
        "    print_student_details(roll_numbers[i], names[i], cgpa[i], sgpa[i])\n",
        "print(\"Ritesh Telkar\")\n",
        "print(\"0827CI211158\")"
      ]
    },
    {
      "cell_type": "code",
      "execution_count": 8,
      "metadata": {
        "colab": {
          "base_uri": "https://localhost:8080/"
        },
        "id": "I4WsWCR-5HhM",
        "outputId": "df08c773-5fad-41c9-b363-3ac87af83bfb"
      },
      "outputs": [
        {
          "name": "stdout",
          "output_type": "stream",
          "text": [
            "Set: {1, 2, 3, 4, 5}\n",
            "Ritesh Telkar\n",
            "0827CI211158\n"
          ]
        }
      ],
      "source": [
        "# write a Python program to create a set.\n",
        "# Create a set\n",
        "my_set = {1, 2, 3, 4, 5}\n",
        "\n",
        "# Print the set\n",
        "print(\"Set:\", my_set)\n",
        "print(\"Ritesh Telkar\")\n",
        "print(\"0827CI211158\")"
      ]
    },
    {
      "cell_type": "code",
      "execution_count": 9,
      "metadata": {
        "colab": {
          "base_uri": "https://localhost:8080/"
        },
        "id": "9BV9Dthn5XTY",
        "outputId": "52249222-8d32-4e9f-e0f1-2852bf74214e"
      },
      "outputs": [
        {
          "name": "stdout",
          "output_type": "stream",
          "text": [
            "Elements of the set:\n",
            "1\n",
            "2\n",
            "3\n",
            "4\n",
            "5\n",
            "Ritesh Telkar\n",
            "0827CI211158\n"
          ]
        }
      ],
      "source": [
        "# Write a Python program to iterate over sets.\n",
        "# Define a set\n",
        "my_set = {1, 2, 3, 4, 5}\n",
        "\n",
        "# Iterate over the set and print each element\n",
        "print(\"Elements of the set:\")\n",
        "for element in my_set:\n",
        "    print(element)\n",
        "print(\"Ritesh Telkar\")\n",
        "print(\"0827CI211158\")"
      ]
    },
    {
      "cell_type": "code",
      "execution_count": 10,
      "metadata": {
        "colab": {
          "base_uri": "https://localhost:8080/"
        },
        "id": "CsYewTHX6e9l",
        "outputId": "46a4da51-f3b2-4e0a-db4a-ef22a043590f"
      },
      "outputs": [
        {
          "name": "stdout",
          "output_type": "stream",
          "text": [
            "Initial set: {1, 2, 3, 4, 5}\n",
            "Set after adding a single member: {1, 2, 3, 4, 5, 6}\n",
            "Set after adding multiple members: {1, 2, 3, 4, 5, 6, 7, 8, 9}\n",
            "Ritesh Telkar\n",
            "0827CI211158\n"
          ]
        }
      ],
      "source": [
        "# Write a Python program to add member(s) to a set.\n",
        "# Define a set\n",
        "my_set = {1, 2, 3, 4, 5}\n",
        "\n",
        "# Print the initial set\n",
        "print(\"Initial set:\", my_set)\n",
        "\n",
        "# Add a single member to the set\n",
        "my_set.add(6)\n",
        "print(\"Set after adding a single member:\", my_set)\n",
        "\n",
        "# Add multiple members to the set using update() method\n",
        "my_set.update([7, 8, 9])\n",
        "print(\"Set after adding multiple members:\", my_set)\n",
        "print(\"Ritesh Telkar\")\n",
        "print(\"0827CI211158\")"
      ]
    },
    {
      "cell_type": "code",
      "execution_count": 11,
      "metadata": {
        "colab": {
          "base_uri": "https://localhost:8080/"
        },
        "id": "Ry7jNmrO6mng",
        "outputId": "ef7ad995-e2a3-42e5-b124-e6255af6c37b"
      },
      "outputs": [
        {
          "name": "stdout",
          "output_type": "stream",
          "text": [
            "Initial set: {1, 2, 3, 4, 5}\n",
            "Set after removing a single item: {1, 2, 4, 5}\n",
            "Set after removing multiple items: {2, 5}\n",
            "Ritesh Telkar\n",
            "0827CI211158\n"
          ]
        }
      ],
      "source": [
        "# Write a Python program to remove Item(s) from a given set.\n",
        "# Define a set\n",
        "my_set = {1, 2, 3, 4, 5}\n",
        "\n",
        "# Print the initial set\n",
        "print(\"Initial set:\", my_set)\n",
        "\n",
        "# Remove a single item from the set using discard() method\n",
        "my_set.discard(3)\n",
        "print(\"Set after removing a single item:\", my_set)\n",
        "\n",
        "# Remove multiple items from the set using discard() method\n",
        "items_to_remove = {1, 4}\n",
        "my_set.difference_update(items_to_remove)\n",
        "print(\"Set after removing multiple items:\", my_set)\n",
        "print(\"Ritesh Telkar\")\n",
        "print(\"0827CI211158\")"
      ]
    },
    {
      "cell_type": "code",
      "execution_count": 12,
      "metadata": {
        "colab": {
          "base_uri": "https://localhost:8080/"
        },
        "id": "fkg7xPmL60X9",
        "outputId": "7d668d6c-a2f2-4703-8016-f0b6c9bea642"
      },
      "outputs": [
        {
          "name": "stdout",
          "output_type": "stream",
          "text": [
            "Initial set: {1, 2, 3, 4, 5}\n",
            "Enter the item to remove: 3\n",
            "Item '3' removed from the set\n",
            "Set after removal: {1, 2, 4, 5}\n",
            "Ritesh Telkar\n",
            "0827CI211158\n"
          ]
        }
      ],
      "source": [
        "# Write a Python program to remove an item from a set if it is\n",
        "def remove_item(set_name, item):\n",
        "    if item in set_name:\n",
        "        set_name.remove(item)\n",
        "        print(f\"Item '{item}' removed from the set\")\n",
        "    else:\n",
        "        print(f\"Item '{item}' is not present in the set\")\n",
        "\n",
        "# Define a set\n",
        "my_set = {1, 2, 3, 4, 5}\n",
        "\n",
        "# Print the initial set\n",
        "print(\"Initial set:\", my_set)\n",
        "\n",
        "# Remove an item from the set\n",
        "item_to_remove = int(input(\"Enter the item to remove: \"))\n",
        "remove_item(my_set, item_to_remove)\n",
        "\n",
        "# Print the set after removal\n",
        "print(\"Set after removal:\", my_set)\n",
        "print(\"Ritesh Telkar\")\n",
        "print(\"0827CI211158\")"
      ]
    },
    {
      "cell_type": "code",
      "execution_count": 13,
      "metadata": {
        "colab": {
          "base_uri": "https://localhost:8080/"
        },
        "id": "xTC6_hPu7Cjr",
        "outputId": "7ad7e3f7-a31b-47d6-e5d8-c8a68021ca11"
      },
      "outputs": [
        {
          "name": "stdout",
          "output_type": "stream",
          "text": [
            "Intersection of set1 and set2: {4, 5}\n",
            "Ritesh Telkar\n",
            "0827CI211158\n"
          ]
        }
      ],
      "source": [
        "# Write a Python program to create an intersection of sets.\n",
        "# Define two sets\n",
        "set1 = {1, 2, 3, 4, 5}\n",
        "set2 = {4, 5, 6, 7, 8}\n",
        "\n",
        "# Find the intersection of the sets using the intersection() method\n",
        "intersection_set = set1.intersection(set2)\n",
        "\n",
        "# Print the intersection set\n",
        "print(\"Intersection of set1 and set2:\", intersection_set)\n",
        "print(\"Ritesh Telkar\")\n",
        "print(\"0827CI211158\")"
      ]
    },
    {
      "cell_type": "code",
      "execution_count": 14,
      "metadata": {
        "colab": {
          "base_uri": "https://localhost:8080/"
        },
        "id": "VYZc6tdQ7KDi",
        "outputId": "3f1626b8-4ae3-428c-fd7f-0b118d6fa602"
      },
      "outputs": [
        {
          "name": "stdout",
          "output_type": "stream",
          "text": [
            "Union of set1 and set2: {1, 2, 3, 4, 5, 6, 7, 8}\n",
            "Ritesh Telkar\n",
            "0827CI211158\n"
          ]
        }
      ],
      "source": [
        "# Write a Python program to create a union of sets.\n",
        "# Define two sets\n",
        "set1 = {1, 2, 3, 4, 5}\n",
        "set2 = {4, 5, 6, 7, 8}\n",
        "\n",
        "# Find the union of the sets using the union() method\n",
        "union_set = set1.union(set2)\n",
        "\n",
        "# Print the union set\n",
        "print(\"Union of set1 and set2:\", union_set)\n",
        "print(\"Ritesh Telkar\")\n",
        "print(\"0827CI211158\")"
      ]
    },
    {
      "cell_type": "code",
      "execution_count": 15,
      "metadata": {
        "colab": {
          "base_uri": "https://localhost:8080/"
        },
        "id": "RqBJfxoP7iOc",
        "outputId": "bbe7d164-8eac-4547-8a67-5bd1655c6931"
      },
      "outputs": [
        {
          "name": "stdout",
          "output_type": "stream",
          "text": [
            "Set difference (set1 - set2): {1, 2, 3}\n",
            "Ritesh Telkar\n",
            "0827CI211158\n"
          ]
        }
      ],
      "source": [
        "# Write a Python program to create set difference\n",
        "# Define two sets\n",
        "set1 = {1, 2, 3, 4, 5}\n",
        "set2 = {4, 5, 6, 7, 8}\n",
        "\n",
        "# Find the set difference using the difference() method\n",
        "difference_set = set1.difference(set2)\n",
        "\n",
        "# Print the set difference\n",
        "print(\"Set difference (set1 - set2):\", difference_set)\n",
        "print(\"Ritesh Telkar\")\n",
        "print(\"0827CI211158\")"
      ]
    },
    {
      "cell_type": "code",
      "execution_count": 16,
      "metadata": {
        "colab": {
          "base_uri": "https://localhost:8080/"
        },
        "id": "7w7d0TAp7q-0",
        "outputId": "60bbf5bd-1fb8-4d8d-bb7c-260bd6e11e6c"
      },
      "outputs": [
        {
          "name": "stdout",
          "output_type": "stream",
          "text": [
            "Symmetric difference of set1 and set2: {1, 2, 3, 6, 7, 8}\n",
            "Ritesh Telkar\n",
            "0827CI211158\n"
          ]
        }
      ],
      "source": [
        "# Write a Python program to create a symmetric difference.\n",
        "# Define two sets\n",
        "set1 = {1, 2, 3, 4, 5}\n",
        "set2 = {4, 5, 6, 7, 8}\n",
        "\n",
        "# Find the symmetric difference using the symmetric_difference() method\n",
        "symmetric_difference_set = set1.symmetric_difference(set2)\n",
        "\n",
        "# Print the symmetric difference\n",
        "print(\"Symmetric difference of set1 and set2:\", symmetric_difference_set)\n",
        "print(\"Ritesh Telkar\")\n",
        "print(\"0827CI211158\")"
      ]
    },
    {
      "cell_type": "code",
      "execution_count": 17,
      "metadata": {
        "colab": {
          "base_uri": "https://localhost:8080/"
        },
        "id": "bfqhYBpygBlz",
        "outputId": "fbcb932f-068b-45e1-ca59-f5d8e6e11807"
      },
      "outputs": [
        {
          "name": "stdout",
          "output_type": "stream",
          "text": [
            "set1 is a subset of set2\n",
            "Ritesh Telkar\n",
            "0827CI211158\n"
          ]
        }
      ],
      "source": [
        "# write a Python program to check if a set is a subset of another set.\n",
        "def is_subset(set1, set2):\n",
        "    # Check if set1 is a subset of set2\n",
        "    return set1.issubset(set2)\n",
        "\n",
        "# Example usage:\n",
        "set1 = {1, 2, 3}\n",
        "set2 = {1, 2, 3, 4, 5}\n",
        "\n",
        "if is_subset(set1, set2):\n",
        "    print(\"set1 is a subset of set2\")\n",
        "else:\n",
        "    print(\"set1 is not a subset of set2\")\n",
        "print(\"Ritesh Telkar\")\n",
        "print(\"0827CI211158\")"
      ]
    },
    {
      "cell_type": "code",
      "execution_count": 18,
      "metadata": {
        "colab": {
          "base_uri": "https://localhost:8080/"
        },
        "id": "n24zJm1EgHsT",
        "outputId": "cdf6abf8-3a72-4d5b-be69-b82331973b53"
      },
      "outputs": [
        {
          "name": "stdout",
          "output_type": "stream",
          "text": [
            "Before removing elements: {1, 2, 3, 4, 5}\n",
            "After removing elements: set()\n",
            "Ritesh Telkar\n",
            "0827CI211158\n"
          ]
        }
      ],
      "source": [
        "# Write a Python program to remove all elements from a given set\n",
        "def remove_all_elements(some_set):\n",
        "    some_set.clear()  # Clears all elements from the set\n",
        "\n",
        "# Example usage:\n",
        "my_set = {1, 2, 3, 4, 5}\n",
        "print(\"Before removing elements:\", my_set)\n",
        "\n",
        "remove_all_elements(my_set)\n",
        "print(\"After removing elements:\", my_set)\n",
        "print(\"Ritesh Telkar\")\n",
        "print(\"0827CI211158\")"
      ]
    },
    {
      "cell_type": "code",
      "execution_count": 19,
      "metadata": {
        "colab": {
          "base_uri": "https://localhost:8080/"
        },
        "id": "LSLcXmCEhre1",
        "outputId": "b10a3596-c6c2-4df4-c649-9cce2c4ade8f"
      },
      "outputs": [
        {
          "name": "stdout",
          "output_type": "stream",
          "text": [
            "Maximum value: 9\n",
            "Minimum value: 1\n",
            "Ritesh Telkar\n",
            "0827CI211158\n"
          ]
        }
      ],
      "source": [
        "# Write a Python program to find the maximum and minimum values in a set\n",
        "def find_max_min(some_set):\n",
        "    if len(some_set) == 0:\n",
        "        print(\"The set is empty.\")\n",
        "    else:\n",
        "        max_value = max(some_set)\n",
        "        min_value = min(some_set)\n",
        "        return max_value, min_value\n",
        "\n",
        "# Example usage:\n",
        "my_set = {5, 3, 9, 2, 8, 1}\n",
        "\n",
        "result = find_max_min(my_set)\n",
        "if result:\n",
        "    max_val, min_val = result\n",
        "    print(\"Maximum value:\", max_val)\n",
        "    print(\"Minimum value:\", min_val)\n",
        "print(\"Ritesh Telkar\")\n",
        "print(\"0827CI211158\")"
      ]
    },
    {
      "cell_type": "code",
      "execution_count": 20,
      "metadata": {
        "colab": {
          "base_uri": "https://localhost:8080/"
        },
        "id": "gHKVjbODiDzT",
        "outputId": "31e22b7f-4b1f-4918-875d-b5e3d4361a73"
      },
      "outputs": [
        {
          "name": "stdout",
          "output_type": "stream",
          "text": [
            "Length of the set: 5\n",
            "Ritesh Telkar\n",
            "0827CI211158\n"
          ]
        }
      ],
      "source": [
        "# write a Python program to find length of a set\n",
        "def find_set_length(some_set):\n",
        "    return len(some_set)\n",
        "\n",
        "# Example usage:\n",
        "my_set = {1, 2, 3, 4, 5}\n",
        "set_length = find_set_length(my_set)\n",
        "print(\"Length of the set:\", set_length)\n",
        "print(\"Ritesh Telkar\")\n",
        "print(\"0827CI211158\")"
      ]
    },
    {
      "cell_type": "code",
      "execution_count": 21,
      "metadata": {
        "colab": {
          "base_uri": "https://localhost:8080/"
        },
        "id": "pywEn-YjuFrN",
        "outputId": "1f99abe3-2379-42d8-c01d-12e21f810908"
      },
      "outputs": [
        {
          "name": "stdout",
          "output_type": "stream",
          "text": [
            "The value 3 is present in the set.\n",
            "Ritesh Telkar\n",
            "0827CI211158\n"
          ]
        }
      ],
      "source": [
        "# Write a Python program to check if a given value is present in a set or not.\n",
        "def check_value_in_set(some_set, value):\n",
        "    return value in some_set\n",
        "\n",
        "# Example usage:\n",
        "my_set = {1, 2, 3, 4, 5}\n",
        "value_to_check = 3\n",
        "\n",
        "if check_value_in_set(my_set, value_to_check):\n",
        "    print(\"The value\", value_to_check, \"is present in the set.\")\n",
        "else:\n",
        "    print(\"The value\", value_to_check, \"is not present in the set.\")\n",
        "print(\"Ritesh Telkar\")\n",
        "print(\"0827CI211158\")"
      ]
    },
    {
      "cell_type": "code",
      "execution_count": 22,
      "metadata": {
        "colab": {
          "base_uri": "https://localhost:8080/"
        },
        "id": "z25emtlruRrs",
        "outputId": "e6cdd603-327d-4721-d3a1-9c504830cc0b"
      },
      "outputs": [
        {
          "name": "stdout",
          "output_type": "stream",
          "text": [
            "The sets have no common elements.\n"
          ]
        }
      ],
      "source": [
        "# Write a Python program to check if two given sets have no elements in common.\n",
        "def no_common_elements(set1, set2):\n",
        "    return set1.isdisjoint(set2)\n",
        "\n",
        "# Example usage:\n",
        "set1 = {1, 2, 3}\n",
        "set2 = {4, 5, 6}\n",
        "\n",
        "if no_common_elements(set1, set2):\n",
        "    print(\"The sets have no common elements.\")\n",
        "else:\n",
        "    print(\"The sets have common elements.\")\n"
      ]
    },
    {
      "cell_type": "code",
      "execution_count": 24,
      "metadata": {
        "colab": {
          "base_uri": "https://localhost:8080/"
        },
        "id": "mxzgYtuMEDkz",
        "outputId": "ea8b79ce-d7ba-4026-c7ba-7cc262341b6e"
      },
      "outputs": [
        {
          "name": "stdout",
          "output_type": "stream",
          "text": [
            "Enter the number of students: 3\n",
            "Enter roll number: 101\n",
            "Enter name: abhay\n",
            "Enter age: 23\n",
            "Enter grade: A\n",
            "Enter roll number: 102\n",
            "Enter name: akaay\n",
            "Enter age: 22\n",
            "Enter grade: C\n",
            "Enter roll number: 103\n",
            "Enter name: asif\n",
            "Enter age: 21\n",
            "Enter grade: B\n",
            "\n",
            "Student Information:\n",
            "Roll No: 101\n",
            "Name: abhay\n",
            "Age: 23\n",
            "Grade: A\n",
            "\n",
            "Roll No: 102\n",
            "Name: akaay\n",
            "Age: 22\n",
            "Grade: C\n",
            "\n",
            "Roll No: 103\n",
            "Name: asif\n",
            "Age: 21\n",
            "Grade: B\n",
            "\n",
            "Ritesh Telkar\n",
            "0827CI211158\n"
          ]
        }
      ],
      "source": [
        "# Write a Python program to create a Dictionary of student information. take roll no as key\n",
        "def create_student_dictionary():\n",
        "    num_students = int(input(\"Enter the number of students: \"))\n",
        "    student_dict = {}\n",
        "\n",
        "    for _ in range(num_students):\n",
        "        roll_no = input(\"Enter roll number: \")\n",
        "        name = input(\"Enter name: \")\n",
        "        age = int(input(\"Enter age: \"))\n",
        "        grade = input(\"Enter grade: \")\n",
        "        student_dict[roll_no] = {\"Name\": name, \"Age\": age, \"Grade\": grade}\n",
        "\n",
        "    return student_dict\n",
        "\n",
        "def main():\n",
        "    student_info = create_student_dictionary()\n",
        "    print(\"\\nStudent Information:\")\n",
        "    for roll_no, info in student_info.items():\n",
        "        print(\"for student \")\n",
        "        print(f\"Roll No: {roll_no}\")\n",
        "        print(f\"Name: {info['Name']}\")\n",
        "        print(f\"Age: {info['Age']}\")\n",
        "        print(f\"Grade: {info['Grade']}\")\n",
        "        print()\n",
        "\n",
        "if __name__ == \"__main__\":\n",
        "    main()\n",
        "print(\"Ritesh Telkar\")\n",
        "print(\"0827CI211158\")"
      ]
    },
    {
      "cell_type": "code",
      "execution_count": 25,
      "metadata": {
        "colab": {
          "base_uri": "https://localhost:8080/"
        },
        "id": "8mIdojQoE0c0",
        "outputId": "86c2c2de-e999-4e65-cce1-8c8d0f32e929"
      },
      "outputs": [
        {
          "name": "stdout",
          "output_type": "stream",
          "text": [
            "Original Dictionary:\n",
            "{'001': {'Name': 'Alice', 'Age': 18, 'Grade': 'A'}, '002': {'Name': 'Bob', 'Age': 19, 'Grade': 'B'}, '003': {'Name': 'Charlie', 'Age': 20, 'Grade': 'C'}}\n",
            "\n",
            "Enter the roll number to delete: 003\n",
            "Key '003' deleted successfully.\n",
            "\n",
            "Updated Dictionary:\n",
            "{'001': {'Name': 'Alice', 'Age': 18, 'Grade': 'A'}, '002': {'Name': 'Bob', 'Age': 19, 'Grade': 'B'}}\n",
            "Ritesh Telkar\n",
            "0827CI211158\n"
          ]
        }
      ],
      "source": [
        "# Write a Python progarm to delete a key from the dictionary\n",
        "def delete_key_from_dict(student_dict, roll_no):\n",
        "    if roll_no in student_dict:\n",
        "        del student_dict[roll_no]\n",
        "        print(f\"Key '{roll_no}' deleted successfully.\")\n",
        "    else:\n",
        "        print(f\"Key '{roll_no}' not found in the dictionary.\")\n",
        "\n",
        "def main():\n",
        "    # Example student dictionary\n",
        "    student_dict = {\n",
        "        \"001\": {\"Name\": \"Alice\", \"Age\": 18, \"Grade\": \"A\"},\n",
        "        \"002\": {\"Name\": \"Bob\", \"Age\": 19, \"Grade\": \"B\"},\n",
        "        \"003\": {\"Name\": \"Charlie\", \"Age\": 20, \"Grade\": \"C\"}\n",
        "    }\n",
        "\n",
        "    print(\"Original Dictionary:\")\n",
        "    print(student_dict)\n",
        "\n",
        "    roll_no_to_delete = input(\"\\nEnter the roll number to delete: \")\n",
        "    delete_key_from_dict(student_dict, roll_no_to_delete)\n",
        "\n",
        "    print(\"\\nUpdated Dictionary:\")\n",
        "    print(student_dict)\n",
        "\n",
        "if __name__ == \"__main__\":\n",
        "    main()\n",
        "print(\"Ritesh Telkar\")\n",
        "print(\"0827CI211158\")"
      ]
    }
  ],
  "metadata": {
    "colab": {
      "provenance": []
    },
    "kernelspec": {
      "display_name": "Python 3",
      "name": "python3"
    },
    "language_info": {
      "name": "python",
      "version": "3.11.9"
    }
  },
  "nbformat": 4,
  "nbformat_minor": 0
}
